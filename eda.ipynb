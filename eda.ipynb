{
 "cells": [
  {
   "cell_type": "markdown",
   "metadata": {},
   "source": [
    "# EDA"
   ]
  },
  {
   "cell_type": "code",
   "execution_count": 1,
   "metadata": {},
   "outputs": [],
   "source": [
    "import numpy as np\n",
    "import pandas as pd\n",
    "import matplotlib.pyplot as plt\n",
    "%matplotlib inline\n",
    "\n",
    "import os\n",
    "from io import BytesIO\n",
    "from PIL import Image\n",
    "import cv2"
   ]
  },
  {
   "cell_type": "code",
   "execution_count": 2,
   "metadata": {},
   "outputs": [
    {
     "data": {
      "text/html": [
       "<div>\n",
       "<style scoped>\n",
       "    .dataframe tbody tr th:only-of-type {\n",
       "        vertical-align: middle;\n",
       "    }\n",
       "\n",
       "    .dataframe tbody tr th {\n",
       "        vertical-align: top;\n",
       "    }\n",
       "\n",
       "    .dataframe thead th {\n",
       "        text-align: right;\n",
       "    }\n",
       "</style>\n",
       "<table border=\"1\" class=\"dataframe\">\n",
       "  <thead>\n",
       "    <tr style=\"text-align: right;\">\n",
       "      <th></th>\n",
       "      <th>UID</th>\n",
       "      <th>growth_stage</th>\n",
       "      <th>label_quality</th>\n",
       "      <th>img_name</th>\n",
       "    </tr>\n",
       "  </thead>\n",
       "  <tbody>\n",
       "    <tr>\n",
       "      <th>0</th>\n",
       "      <td>nwuCTQKz</td>\n",
       "      <td>4</td>\n",
       "      <td>2</td>\n",
       "      <td>nwuCTQKz.jpeg</td>\n",
       "    </tr>\n",
       "    <tr>\n",
       "      <th>1</th>\n",
       "      <td>NVGUOzWu</td>\n",
       "      <td>1</td>\n",
       "      <td>1</td>\n",
       "      <td>NVGUOzWu.jpeg</td>\n",
       "    </tr>\n",
       "    <tr>\n",
       "      <th>2</th>\n",
       "      <td>1IYVvHwA</td>\n",
       "      <td>1</td>\n",
       "      <td>1</td>\n",
       "      <td>1IYVvHwA.jpeg</td>\n",
       "    </tr>\n",
       "    <tr>\n",
       "      <th>3</th>\n",
       "      <td>8OEdWwmU</td>\n",
       "      <td>1</td>\n",
       "      <td>1</td>\n",
       "      <td>8OEdWwmU.jpeg</td>\n",
       "    </tr>\n",
       "    <tr>\n",
       "      <th>4</th>\n",
       "      <td>oc5iO04j</td>\n",
       "      <td>1</td>\n",
       "      <td>1</td>\n",
       "      <td>oc5iO04j.jpeg</td>\n",
       "    </tr>\n",
       "  </tbody>\n",
       "</table>\n",
       "</div>"
      ],
      "text/plain": [
       "        UID  growth_stage  label_quality       img_name\n",
       "0  nwuCTQKz             4              2  nwuCTQKz.jpeg\n",
       "1  NVGUOzWu             1              1  NVGUOzWu.jpeg\n",
       "2  1IYVvHwA             1              1  1IYVvHwA.jpeg\n",
       "3  8OEdWwmU             1              1  8OEdWwmU.jpeg\n",
       "4  oc5iO04j             1              1  oc5iO04j.jpeg"
      ]
     },
     "execution_count": 2,
     "metadata": {},
     "output_type": "execute_result"
    }
   ],
   "source": [
    "df = pd.read_csv(\"Train.csv\")\n",
    "df[\"img_name\"] = df[\"UID\"].apply(lambda x: \".\".join([x, \"jpeg\"]))\n",
    "df.head()"
   ]
  },
  {
   "cell_type": "code",
   "execution_count": 3,
   "metadata": {},
   "outputs": [
    {
     "data": {
      "text/plain": [
       "<matplotlib.axes._subplots.AxesSubplot at 0x7fcd95976f40>"
      ]
     },
     "execution_count": 3,
     "metadata": {},
     "output_type": "execute_result"
    },
    {
     "data": {
      "image/png": "[encoded data removed]",
      "text/plain": [
       "<Figure size 432x288 with 1 Axes>"
      ]
     },
     "metadata": {
      "needs_background": "light"
     },
     "output_type": "display_data"
    }
   ],
   "source": [
    "df[\"growth_stage\"].hist()"
   ]
  },
  {
   "cell_type": "code",
   "execution_count": 4,
   "metadata": {},
   "outputs": [
    {
     "data": {
      "text/plain": [
       "<matplotlib.axes._subplots.AxesSubplot at 0x7fcd9500d910>"
      ]
     },
     "execution_count": 4,
     "metadata": {},
     "output_type": "execute_result"
    },
    {
     "data": {
      "image/png": "[encoded data removed]",
      "text/plain": [
       "<Figure size 432x288 with 1 Axes>"
      ]
     },
     "metadata": {
      "needs_background": "light"
     },
     "output_type": "display_data"
    }
   ],
   "source": [
    "df[\"label_quality\"].hist()"
   ]
  },
  {
   "cell_type": "code",
   "execution_count": 15,
   "metadata": {},
   "outputs": [
    {
     "data": {
      "text/plain": [
       "4"
      ]
     },
     "execution_count": 15,
     "metadata": {},
     "output_type": "execute_result"
    }
   ],
   "source": []
  },
  {
   "cell_type": "code",
   "execution_count": 33,
   "metadata": {},
   "outputs": [
    {
     "data": {
      "text/html": [
       "<div>\n",
       "<style scoped>\n",
       "    .dataframe tbody tr th:only-of-type {\n",
       "        vertical-align: middle;\n",
       "    }\n",
       "\n",
       "    .dataframe tbody tr th {\n",
       "        vertical-align: top;\n",
       "    }\n",
       "\n",
       "    .dataframe thead th {\n",
       "        text-align: right;\n",
       "    }\n",
       "</style>\n",
       "<table border=\"1\" class=\"dataframe\">\n",
       "  <thead>\n",
       "    <tr style=\"text-align: right;\">\n",
       "      <th></th>\n",
       "      <th>UID</th>\n",
       "      <th>growth_stage</th>\n",
       "      <th>label_quality</th>\n",
       "      <th>img_name</th>\n",
       "      <th>width</th>\n",
       "      <th>height</th>\n",
       "    </tr>\n",
       "  </thead>\n",
       "  <tbody>\n",
       "    <tr>\n",
       "      <th>10507</th>\n",
       "      <td>zQNfsy6c</td>\n",
       "      <td>6</td>\n",
       "      <td>0</td>\n",
       "      <td>zQNfsy6c.jpeg</td>\n",
       "      <td>512</td>\n",
       "      <td>184</td>\n",
       "    </tr>\n",
       "  </tbody>\n",
       "</table>\n",
       "</div>"
      ],
      "text/plain": [
       "            UID  growth_stage  label_quality       img_name  width  height\n",
       "10507  zQNfsy6c             6              0  zQNfsy6c.jpeg    512     184"
      ]
     },
     "execution_count": 33,
     "metadata": {},
     "output_type": "execute_result"
    }
   ],
   "source": [
    "#Вытаскиваю из 1 категории настоящие 1 стадии(до 4 листьев)\n",
    "df.loc[2074,\"label_quality\"] = 0 # фото пейзажа из машины\n",
    "df.loc[7488,\"label_quality\"] = 2 # точно голое поле\n",
    "df.loc[10048,\"label_quality\"] = 0 # полностью черная картинка\n",
    "df.loc[590,\"label_quality\"] = 2 # точно голое поле\n",
    "df.loc[8207,\"label_quality\"] = 2 # точно голое поле\n",
    "df.loc[2814,\"label_quality\"] = 2 # точно голое поле\n",
    "df.loc[2528,\"label_quality\"] = 2 # точно голое поле\n",
    "df.loc[7467,\"label_quality\"] = 2 # точно голое поле\n",
    "df.loc[6956,\"label_quality\"] = 2 # точно голое поле\n",
    "df.loc[8506,\"label_quality\"] = 2 # точно голое поле\n",
    "df.loc[7611,\"label_quality\"] = 2 # точно голое поле\n",
    "\n",
    "\n",
    "df.loc[7209,\"label_quality\"] = 2 # почти голое поле\n",
    "df.loc[4294,\"label_quality\"] = 2 # почти голое поле\n",
    "df.loc[1799,\"label_quality\"] = 2 # почти голое поле\n",
    "df.loc[2035,\"label_quality\"] = 2 # почти голое поле\n",
    "df.loc[2494,\"label_quality\"] = 2 # почти голое поле\n",
    "df.loc[24,\"label_quality\"] = 2 # почти голое поле\n",
    "\n",
    "df.loc[10338,\"label_quality\"] = 2 # почти голое поле\n",
    "df.loc[2753,\"label_quality\"] = 0 # не пшеница, а какие-то цветы\n",
    "\n",
    "\n",
    "#Ремонт 4 категории\n",
    "df.loc[4252,\"label_quality\"] = 1 # половина фото занимает куча земли \n",
    "df.loc[10453,\"label_quality\"] = 1 # очень размытое фото \n",
    "df.loc[10449,\"label_quality\"] = 1 # что-то я сильно сомневаюсь, что эти травинки 4 стадии роста\n",
    "\n",
    "#Ремонт 6 категории\n",
    "df.loc[10507,\"label_quality\"] = 0 # грядки капусты\n",
    "\n",
    "df[df[\"img_name\"] == \"zQNfsy6c.jpeg\"]\n"
   ]
  },
  {
   "cell_type": "code",
   "execution_count": 18,
   "metadata": {},
   "outputs": [
    {
     "data": {
      "text/html": [
       "<div>\n",
       "<style scoped>\n",
       "    .dataframe tbody tr th:only-of-type {\n",
       "        vertical-align: middle;\n",
       "    }\n",
       "\n",
       "    .dataframe tbody tr th {\n",
       "        vertical-align: top;\n",
       "    }\n",
       "\n",
       "    .dataframe thead th {\n",
       "        text-align: right;\n",
       "    }\n",
       "</style>\n",
       "<table border=\"1\" class=\"dataframe\">\n",
       "  <thead>\n",
       "    <tr style=\"text-align: right;\">\n",
       "      <th></th>\n",
       "      <th>UID</th>\n",
       "      <th>growth_stage</th>\n",
       "      <th>label_quality</th>\n",
       "      <th>img_name</th>\n",
       "      <th>width</th>\n",
       "      <th>height</th>\n",
       "    </tr>\n",
       "  </thead>\n",
       "  <tbody>\n",
       "    <tr>\n",
       "      <th>2156</th>\n",
       "      <td>ZOcgQ4GM</td>\n",
       "      <td>1</td>\n",
       "      <td>2</td>\n",
       "      <td>ZOcgQ4GM.jpeg</td>\n",
       "      <td>512</td>\n",
       "      <td>120</td>\n",
       "    </tr>\n",
       "  </tbody>\n",
       "</table>\n",
       "</div>"
      ],
      "text/plain": [
       "           UID  growth_stage  label_quality       img_name  width  height\n",
       "2156  ZOcgQ4GM             1              2  ZOcgQ4GM.jpeg    512     120"
      ]
     },
     "execution_count": 18,
     "metadata": {},
     "output_type": "execute_result"
    }
   ],
   "source": [
    "#Ремонт 2 стадии. Убираю из экспертной 2 стадии голую землю\n",
    "df.loc[4723,\"growth_stage\"] = 1 # почти голое поле\n",
    "df.loc[4227,\"growth_stage\"] = 1 # почти голое поле\n",
    "df.loc[10208,\"growth_stage\"] = 1 # почти голое поле\n",
    "df.loc[4513,\"growth_stage\"] = 1 # почти голое поле\n",
    "df.loc[343,\"growth_stage\"] = 1 # почти голое поле\n",
    "df.loc[10646,\"growth_stage\"] = 1 # почти голое поле\n",
    "\n",
    "df.loc[2156,\"growth_stage\"] = 1 # голое поле\n",
    "df.loc[4127,\"growth_stage\"] = 1 # голое поле\n",
    "df.loc[1680,\"growth_stage\"] = 1 # голое поле\n",
    "df.loc[3603,\"growth_stage\"] = 1 # голое поле\n",
    "\n",
    "df.loc[122,\"growth_stage\"] = 2 # почти голое поле\n",
    "df[df[\"img_name\"] == \"ZOcgQ4GM.jpeg\"]"
   ]
  },
  {
   "cell_type": "code",
   "execution_count": 17,
   "metadata": {},
   "outputs": [
    {
     "data": {
      "text/plain": [
       "14253"
      ]
     },
     "execution_count": 17,
     "metadata": {},
     "output_type": "execute_result"
    }
   ],
   "source": [
    "len(os.listdir(\"images/Images/\"))"
   ]
  },
  {
   "cell_type": "code",
   "execution_count": 34,
   "metadata": {},
   "outputs": [],
   "source": [
    "#Файл с пофиксенными метками\n",
    "df.to_csv(\"Train_fixed.csv\", index=False)"
   ]
  },
  {
   "cell_type": "code",
   "execution_count": null,
   "metadata": {},
   "outputs": [],
   "source": []
  },
  {
   "cell_type": "code",
   "execution_count": 22,
   "metadata": {},
   "outputs": [
    {
     "data": {
      "text/html": [
       "<div>\n",
       "<style scoped>\n",
       "    .dataframe tbody tr th:only-of-type {\n",
       "        vertical-align: middle;\n",
       "    }\n",
       "\n",
       "    .dataframe tbody tr th {\n",
       "        vertical-align: top;\n",
       "    }\n",
       "\n",
       "    .dataframe thead th {\n",
       "        text-align: right;\n",
       "    }\n",
       "</style>\n",
       "<table border=\"1\" class=\"dataframe\">\n",
       "  <thead>\n",
       "    <tr style=\"text-align: right;\">\n",
       "      <th></th>\n",
       "      <th>UID</th>\n",
       "      <th>growth_stage</th>\n",
       "      <th>label_quality</th>\n",
       "      <th>img_name</th>\n",
       "      <th>width</th>\n",
       "      <th>height</th>\n",
       "    </tr>\n",
       "  </thead>\n",
       "  <tbody>\n",
       "    <tr>\n",
       "      <th>0</th>\n",
       "      <td>nwuCTQKz</td>\n",
       "      <td>4</td>\n",
       "      <td>2</td>\n",
       "      <td>nwuCTQKz.jpeg</td>\n",
       "      <td>512</td>\n",
       "      <td>147</td>\n",
       "    </tr>\n",
       "    <tr>\n",
       "      <th>1</th>\n",
       "      <td>NVGUOzWu</td>\n",
       "      <td>1</td>\n",
       "      <td>1</td>\n",
       "      <td>NVGUOzWu.jpeg</td>\n",
       "      <td>512</td>\n",
       "      <td>180</td>\n",
       "    </tr>\n",
       "    <tr>\n",
       "      <th>2</th>\n",
       "      <td>1IYVvHwA</td>\n",
       "      <td>1</td>\n",
       "      <td>1</td>\n",
       "      <td>1IYVvHwA.jpeg</td>\n",
       "      <td>512</td>\n",
       "      <td>183</td>\n",
       "    </tr>\n",
       "    <tr>\n",
       "      <th>3</th>\n",
       "      <td>8OEdWwmU</td>\n",
       "      <td>1</td>\n",
       "      <td>1</td>\n",
       "      <td>8OEdWwmU.jpeg</td>\n",
       "      <td>512</td>\n",
       "      <td>167</td>\n",
       "    </tr>\n",
       "    <tr>\n",
       "      <th>4</th>\n",
       "      <td>oc5iO04j</td>\n",
       "      <td>1</td>\n",
       "      <td>1</td>\n",
       "      <td>oc5iO04j.jpeg</td>\n",
       "      <td>512</td>\n",
       "      <td>175</td>\n",
       "    </tr>\n",
       "    <tr>\n",
       "      <th>5</th>\n",
       "      <td>A60rOyP9</td>\n",
       "      <td>1</td>\n",
       "      <td>1</td>\n",
       "      <td>A60rOyP9.jpeg</td>\n",
       "      <td>512</td>\n",
       "      <td>202</td>\n",
       "    </tr>\n",
       "    <tr>\n",
       "      <th>6</th>\n",
       "      <td>TnVJ3pgC</td>\n",
       "      <td>6</td>\n",
       "      <td>1</td>\n",
       "      <td>TnVJ3pgC.jpeg</td>\n",
       "      <td>512</td>\n",
       "      <td>236</td>\n",
       "    </tr>\n",
       "    <tr>\n",
       "      <th>7</th>\n",
       "      <td>sYLqmiXV</td>\n",
       "      <td>3</td>\n",
       "      <td>2</td>\n",
       "      <td>sYLqmiXV.jpeg</td>\n",
       "      <td>512</td>\n",
       "      <td>180</td>\n",
       "    </tr>\n",
       "    <tr>\n",
       "      <th>8</th>\n",
       "      <td>Q5iyu8IP</td>\n",
       "      <td>7</td>\n",
       "      <td>1</td>\n",
       "      <td>Q5iyu8IP.jpeg</td>\n",
       "      <td>512</td>\n",
       "      <td>171</td>\n",
       "    </tr>\n",
       "    <tr>\n",
       "      <th>9</th>\n",
       "      <td>s2X0it4L</td>\n",
       "      <td>1</td>\n",
       "      <td>1</td>\n",
       "      <td>s2X0it4L.jpeg</td>\n",
       "      <td>512</td>\n",
       "      <td>160</td>\n",
       "    </tr>\n",
       "  </tbody>\n",
       "</table>\n",
       "</div>"
      ],
      "text/plain": [
       "        UID  growth_stage  label_quality       img_name  width  height\n",
       "0  nwuCTQKz             4              2  nwuCTQKz.jpeg    512     147\n",
       "1  NVGUOzWu             1              1  NVGUOzWu.jpeg    512     180\n",
       "2  1IYVvHwA             1              1  1IYVvHwA.jpeg    512     183\n",
       "3  8OEdWwmU             1              1  8OEdWwmU.jpeg    512     167\n",
       "4  oc5iO04j             1              1  oc5iO04j.jpeg    512     175\n",
       "5  A60rOyP9             1              1  A60rOyP9.jpeg    512     202\n",
       "6  TnVJ3pgC             6              1  TnVJ3pgC.jpeg    512     236\n",
       "7  sYLqmiXV             3              2  sYLqmiXV.jpeg    512     180\n",
       "8  Q5iyu8IP             7              1  Q5iyu8IP.jpeg    512     171\n",
       "9  s2X0it4L             1              1  s2X0it4L.jpeg    512     160"
      ]
     },
     "execution_count": 22,
     "metadata": {},
     "output_type": "execute_result"
    }
   ],
   "source": [
    "folder = \"images/Images\"\n",
    "\n",
    "def get_width(img_name):\n",
    "    img_path = os.path.join(folder, img_name)\n",
    "        # Read an image with OpenCV\n",
    "    image = cv2.imread(img_path)\n",
    "    return image.shape[1]\n",
    "\n",
    "def get_height(img_name):\n",
    "    img_path = os.path.join(folder, img_name)\n",
    "        # Read an image with OpenCV\n",
    "    image = cv2.imread(img_path)\n",
    "    return image.shape[0]\n",
    "\n",
    "df[\"width\"] = df[\"img_name\"].apply(lambda x: get_width(x))\n",
    "df[\"height\"] = df[\"img_name\"].apply(lambda x: get_height(x))\n",
    "df.head(10)\n",
    "    \n",
    "        \n",
    "\n",
    "    "
   ]
  },
  {
   "cell_type": "code",
   "execution_count": 23,
   "metadata": {},
   "outputs": [
    {
     "name": "stdout",
     "output_type": "stream",
     "text": [
      "15 491 178.0\n"
     ]
    },
    {
     "data": {
      "text/plain": [
       "<matplotlib.axes._subplots.AxesSubplot at 0x7fcd6d8a4d30>"
      ]
     },
     "execution_count": 23,
     "metadata": {},
     "output_type": "execute_result"
    },
    {
     "data": {
      "image/png": "[encoded data removed]",
      "text/plain": [
       "<Figure size 432x288 with 1 Axes>"
      ]
     },
     "metadata": {
      "needs_background": "light"
     },
     "output_type": "display_data"
    }
   ],
   "source": [
    "print(df[\"height\"].min(), df[\"height\"].max(),  df[\"height\"].median())\n",
    "df[\"height\"].hist()"
   ]
  },
  {
   "cell_type": "code",
   "execution_count": 24,
   "metadata": {},
   "outputs": [
    {
     "name": "stdout",
     "output_type": "stream",
     "text": [
      "316 640 512.0\n"
     ]
    },
    {
     "data": {
      "text/plain": [
       "<matplotlib.axes._subplots.AxesSubplot at 0x7fcd6d68f940>"
      ]
     },
     "execution_count": 24,
     "metadata": {},
     "output_type": "execute_result"
    },
    {
     "data": {
      "image/png": "[encoded data removed]",
      "text/plain": [
       "<Figure size 432x288 with 1 Axes>"
      ]
     },
     "metadata": {
      "needs_background": "light"
     },
     "output_type": "display_data"
    }
   ],
   "source": [
    "print(df[\"width\"].min(), df[\"width\"].max(), df[\"width\"].median())\n",
    "df[\"width\"].hist()"
   ]
  },
  {
   "cell_type": "markdown",
   "metadata": {},
   "source": [
    "## Делаю большие картинки"
   ]
  },
  {
   "cell_type": "code",
   "execution_count": 26,
   "metadata": {},
   "outputs": [],
   "source": [
    "from PIL import Image\n",
    "\n",
    "\n",
    "baseheight = 224\n",
    "target_folder = \"images/bigImages\"\n",
    "for i in os.listdir(\"images/Images/\"):\n",
    "    #print(i)\n",
    "    img_path = os.path.join(\"images/Images/\", i)\n",
    "    img = Image.open(img_path)\n",
    "    width, height = img.size\n",
    "    #print(img)\n",
    "    images = [img, img, img]\n",
    "    #print(\"height\", images[2].size[1])\n",
    "    new_height = images[2].size[1]\n",
    "    while new_height < 2 * baseheight:\n",
    "        images[2] = np.vstack([images[1], images[0]])\n",
    "        #print(images[2].shape)\n",
    "        images[1] = images[2]\n",
    "        #print(\"height\", images[2].shape[0])\n",
    "        new_height = images[2].shape[0]\n",
    "        \n",
    "\n",
    "    # если картинка склеена, то она - массив, а если нет, то PIL объект\n",
    "    try:\n",
    "        #images[2].save(os.path.join(target_folder, i[1][\"img_name\"]))\n",
    "        images[2].save(os.path.join(target_folder, i))\n",
    "    except:\n",
    "        Image.fromarray(images[2]).save(os.path.join(target_folder, i))"
   ]
  },
  {
   "cell_type": "markdown",
   "metadata": {},
   "source": [
    "## Датасет с label_quality == 2"
   ]
  },
  {
   "cell_type": "code",
   "execution_count": 28,
   "metadata": {},
   "outputs": [
    {
     "data": {
      "text/plain": [
       "(2869, 6)"
      ]
     },
     "execution_count": 28,
     "metadata": {},
     "output_type": "execute_result"
    }
   ],
   "source": [
    "sm_df = df[df[\"label_quality\"] == 2]\n",
    "sm_df.shape"
   ]
  },
  {
   "cell_type": "code",
   "execution_count": 29,
   "metadata": {},
   "outputs": [],
   "source": [
    "sm_df.to_csv(\"small_test.csv\", index=False)"
   ]
  },
  {
   "cell_type": "code",
   "execution_count": 30,
   "metadata": {},
   "outputs": [
    {
     "data": {
      "text/html": [
       "<div>\n",
       "<style scoped>\n",
       "    .dataframe tbody tr th:only-of-type {\n",
       "        vertical-align: middle;\n",
       "    }\n",
       "\n",
       "    .dataframe tbody tr th {\n",
       "        vertical-align: top;\n",
       "    }\n",
       "\n",
       "    .dataframe thead th {\n",
       "        text-align: right;\n",
       "    }\n",
       "</style>\n",
       "<table border=\"1\" class=\"dataframe\">\n",
       "  <thead>\n",
       "    <tr style=\"text-align: right;\">\n",
       "      <th></th>\n",
       "      <th>UID</th>\n",
       "      <th>label_quality</th>\n",
       "      <th>img_name</th>\n",
       "      <th>width</th>\n",
       "      <th>height</th>\n",
       "    </tr>\n",
       "    <tr>\n",
       "      <th>growth_stage</th>\n",
       "      <th></th>\n",
       "      <th></th>\n",
       "      <th></th>\n",
       "      <th></th>\n",
       "      <th></th>\n",
       "    </tr>\n",
       "  </thead>\n",
       "  <tbody>\n",
       "    <tr>\n",
       "      <th>1</th>\n",
       "      <td>0.009411</td>\n",
       "      <td>0.009411</td>\n",
       "      <td>0.009411</td>\n",
       "      <td>0.009411</td>\n",
       "      <td>0.009411</td>\n",
       "    </tr>\n",
       "    <tr>\n",
       "      <th>2</th>\n",
       "      <td>0.157895</td>\n",
       "      <td>0.157895</td>\n",
       "      <td>0.157895</td>\n",
       "      <td>0.157895</td>\n",
       "      <td>0.157895</td>\n",
       "    </tr>\n",
       "    <tr>\n",
       "      <th>3</th>\n",
       "      <td>0.240153</td>\n",
       "      <td>0.240153</td>\n",
       "      <td>0.240153</td>\n",
       "      <td>0.240153</td>\n",
       "      <td>0.240153</td>\n",
       "    </tr>\n",
       "    <tr>\n",
       "      <th>4</th>\n",
       "      <td>0.389334</td>\n",
       "      <td>0.389334</td>\n",
       "      <td>0.389334</td>\n",
       "      <td>0.389334</td>\n",
       "      <td>0.389334</td>\n",
       "    </tr>\n",
       "    <tr>\n",
       "      <th>5</th>\n",
       "      <td>0.087487</td>\n",
       "      <td>0.087487</td>\n",
       "      <td>0.087487</td>\n",
       "      <td>0.087487</td>\n",
       "      <td>0.087487</td>\n",
       "    </tr>\n",
       "    <tr>\n",
       "      <th>7</th>\n",
       "      <td>0.115720</td>\n",
       "      <td>0.115720</td>\n",
       "      <td>0.115720</td>\n",
       "      <td>0.115720</td>\n",
       "      <td>0.115720</td>\n",
       "    </tr>\n",
       "  </tbody>\n",
       "</table>\n",
       "</div>"
      ],
      "text/plain": [
       "                   UID  label_quality  img_name     width    height\n",
       "growth_stage                                                       \n",
       "1             0.009411       0.009411  0.009411  0.009411  0.009411\n",
       "2             0.157895       0.157895  0.157895  0.157895  0.157895\n",
       "3             0.240153       0.240153  0.240153  0.240153  0.240153\n",
       "4             0.389334       0.389334  0.389334  0.389334  0.389334\n",
       "5             0.087487       0.087487  0.087487  0.087487  0.087487\n",
       "7             0.115720       0.115720  0.115720  0.115720  0.115720"
      ]
     },
     "execution_count": 30,
     "metadata": {},
     "output_type": "execute_result"
    }
   ],
   "source": [
    "sm_df.groupby(\"growth_stage\").count() / sm_df.shape[0]\n"
   ]
  },
  {
   "cell_type": "markdown",
   "metadata": {},
   "source": [
    "## Отфильтровывание отдельных категорий\n"
   ]
  },
  {
   "cell_type": "code",
   "execution_count": 31,
   "metadata": {},
   "outputs": [],
   "source": [
    "target_folder = \"images/6_stage\"\n",
    "for i in df[df[\"growth_stage\"] == 6].iterrows():\n",
    "    img_path = os.path.join(folder, i[1][\"img_name\"])\n",
    "    img = Image.open(img_path)\n",
    "    img.save(os.path.join(target_folder, i[1][\"img_name\"]))\n"
   ]
  },
  {
   "cell_type": "code",
   "execution_count": null,
   "metadata": {},
   "outputs": [],
   "source": [
    "df[df[\"growth_stage\"] > 1][df[\"label_quality\"] == 1]"
   ]
  },
  {
   "cell_type": "code",
   "execution_count": null,
   "metadata": {},
   "outputs": [],
   "source": [
    "df[df[\"img_name\"] == \"nyBg0Q2c.jpeg\"]"
   ]
  },
  {
   "cell_type": "code",
   "execution_count": null,
   "metadata": {},
   "outputs": [],
   "source": []
  },
  {
   "cell_type": "code",
   "execution_count": null,
   "metadata": {},
   "outputs": [],
   "source": []
  }
 ],
 "metadata": {
  "kernelspec": {
   "display_name": "Python 3",
   "language": "python",
   "name": "python3"
  },
  "language_info": {
   "codemirror_mode": {
    "name": "ipython",
    "version": 3
   },
   "file_extension": ".py",
   "mimetype": "text/x-python",
   "name": "python",
   "nbconvert_exporter": "python",
   "pygments_lexer": "ipython3",
   "version": "3.8.3"
  }
 },
 "nbformat": 4,
 "nbformat_minor": 4
}
