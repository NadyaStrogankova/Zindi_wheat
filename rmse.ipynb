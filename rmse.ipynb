{
 "cells": [
  {
   "cell_type": "code",
   "execution_count": 320,
   "metadata": {},
   "outputs": [],
   "source": [
    "import numpy as np\n",
    "import pandas as pd\n",
    "import matplotlib.pyplot as plt\n",
    "%matplotlib inline\n",
    "\n",
    "import os\n",
    "from io import BytesIO\n",
    "from PIL import Image\n",
    "import cv2\n",
    "import re"
   ]
  },
  {
   "cell_type": "markdown",
   "metadata": {},
   "source": [
    "## Самый эффективный способ усреднять - брать среднее квадратов меток\n",
    ". \n",
    "Трешхолдить, брать максимум - все дает рез-ты сильно хуже (на 4-5 сотых), чем просто среднее. А среднее на 0.1 хуже среднего квадратов\n",
    "\n",
    "\n",
    "В сабмитах порядок был такой:\n",
    " * просто среднее 0.623684675521249\n",
    " * максимум  0.669751155620737\n",
    " * медиана после трешхолда по 0.7  0.657896216086618"
   ]
  },
  {
   "cell_type": "code",
   "execution_count": 321,
   "metadata": {},
   "outputs": [
    {
     "data": {
      "text/html": [
       "<div>\n",
       "<style scoped>\n",
       "    .dataframe tbody tr th:only-of-type {\n",
       "        vertical-align: middle;\n",
       "    }\n",
       "\n",
       "    .dataframe tbody tr th {\n",
       "        vertical-align: top;\n",
       "    }\n",
       "\n",
       "    .dataframe thead th {\n",
       "        text-align: right;\n",
       "    }\n",
       "</style>\n",
       "<table border=\"1\" class=\"dataframe\">\n",
       "  <thead>\n",
       "    <tr style=\"text-align: right;\">\n",
       "      <th></th>\n",
       "      <th>UID</th>\n",
       "      <th>growth_stage</th>\n",
       "      <th>label_quality</th>\n",
       "      <th>img_name</th>\n",
       "    </tr>\n",
       "  </thead>\n",
       "  <tbody>\n",
       "    <tr>\n",
       "      <th>0</th>\n",
       "      <td>nwuCTQKz</td>\n",
       "      <td>4</td>\n",
       "      <td>2</td>\n",
       "      <td>nwuCTQKz.jpeg</td>\n",
       "    </tr>\n",
       "    <tr>\n",
       "      <th>1</th>\n",
       "      <td>NVGUOzWu</td>\n",
       "      <td>1</td>\n",
       "      <td>1</td>\n",
       "      <td>NVGUOzWu.jpeg</td>\n",
       "    </tr>\n",
       "    <tr>\n",
       "      <th>2</th>\n",
       "      <td>1IYVvHwA</td>\n",
       "      <td>1</td>\n",
       "      <td>1</td>\n",
       "      <td>1IYVvHwA.jpeg</td>\n",
       "    </tr>\n",
       "    <tr>\n",
       "      <th>3</th>\n",
       "      <td>8OEdWwmU</td>\n",
       "      <td>1</td>\n",
       "      <td>1</td>\n",
       "      <td>8OEdWwmU.jpeg</td>\n",
       "    </tr>\n",
       "    <tr>\n",
       "      <th>4</th>\n",
       "      <td>oc5iO04j</td>\n",
       "      <td>1</td>\n",
       "      <td>1</td>\n",
       "      <td>oc5iO04j.jpeg</td>\n",
       "    </tr>\n",
       "  </tbody>\n",
       "</table>\n",
       "</div>"
      ],
      "text/plain": [
       "        UID  growth_stage  label_quality       img_name\n",
       "0  nwuCTQKz             4              2  nwuCTQKz.jpeg\n",
       "1  NVGUOzWu             1              1  NVGUOzWu.jpeg\n",
       "2  1IYVvHwA             1              1  1IYVvHwA.jpeg\n",
       "3  8OEdWwmU             1              1  8OEdWwmU.jpeg\n",
       "4  oc5iO04j             1              1  oc5iO04j.jpeg"
      ]
     },
     "execution_count": 321,
     "metadata": {},
     "output_type": "execute_result"
    }
   ],
   "source": [
    "df = pd.read_csv(\"Train_fixed.csv\")\n",
    "df[\"img_name\"] = df[\"UID\"].apply(lambda x: \".\".join([x, \"jpeg\"]))\n",
    "df.head()"
   ]
  },
  {
   "cell_type": "code",
   "execution_count": 322,
   "metadata": {},
   "outputs": [
    {
     "data": {
      "text/plain": [
       "(10695, 4)"
      ]
     },
     "execution_count": 322,
     "metadata": {},
     "output_type": "execute_result"
    }
   ],
   "source": [
    "df.shape"
   ]
  },
  {
   "cell_type": "markdown",
   "metadata": {},
   "source": [
    " * rmse 0.5287153386994643  file full_pred_b3_16.csv after 39 epochs\n",
    " * rmse 0.5095805723408371  file full_pred_b1_16.csv  public lb 0.58939475057617 after 39 epochs 61=39.chkp\n",
    " объединив 2 предсказания выше получается rmse 0.49851644668196105\n",
    " \n",
    " * rmse file full_pred_b1_60_16.csv after 59 epochs  public lb 0.599793856286765\n",
    "\n",
    " * rmse 0.5404515107599817 file middle_small_17.csv 11=34.chkp \n",
    " "
   ]
  },
  {
   "cell_type": "code",
   "execution_count": 323,
   "metadata": {},
   "outputs": [
    {
     "name": "stdout",
     "output_type": "stream",
     "text": [
      "(160425, 3)\n"
     ]
    },
    {
     "data": {
      "text/html": [
       "<div>\n",
       "<style scoped>\n",
       "    .dataframe tbody tr th:only-of-type {\n",
       "        vertical-align: middle;\n",
       "    }\n",
       "\n",
       "    .dataframe tbody tr th {\n",
       "        vertical-align: top;\n",
       "    }\n",
       "\n",
       "    .dataframe thead th {\n",
       "        text-align: right;\n",
       "    }\n",
       "</style>\n",
       "<table border=\"1\" class=\"dataframe\">\n",
       "  <thead>\n",
       "    <tr style=\"text-align: right;\">\n",
       "      <th></th>\n",
       "      <th>UID</th>\n",
       "      <th>img_name</th>\n",
       "      <th>pred</th>\n",
       "    </tr>\n",
       "  </thead>\n",
       "  <tbody>\n",
       "    <tr>\n",
       "      <th>0</th>\n",
       "      <td>01AJUu7l</td>\n",
       "      <td>01AJUu7l.jpeg</td>\n",
       "      <td>3.890042</td>\n",
       "    </tr>\n",
       "    <tr>\n",
       "      <th>1</th>\n",
       "      <td>01B4CV3K</td>\n",
       "      <td>01B4CV3K.jpeg</td>\n",
       "      <td>2.192580</td>\n",
       "    </tr>\n",
       "    <tr>\n",
       "      <th>2</th>\n",
       "      <td>02R9pCXz</td>\n",
       "      <td>02R9pCXz.jpeg</td>\n",
       "      <td>5.854731</td>\n",
       "    </tr>\n",
       "    <tr>\n",
       "      <th>3</th>\n",
       "      <td>02XgtYwT</td>\n",
       "      <td>02XgtYwT.jpeg</td>\n",
       "      <td>6.756191</td>\n",
       "    </tr>\n",
       "    <tr>\n",
       "      <th>4</th>\n",
       "      <td>02hINknf</td>\n",
       "      <td>02hINknf.jpeg</td>\n",
       "      <td>6.382838</td>\n",
       "    </tr>\n",
       "  </tbody>\n",
       "</table>\n",
       "</div>"
      ],
      "text/plain": [
       "        UID       img_name      pred\n",
       "0  01AJUu7l  01AJUu7l.jpeg  3.890042\n",
       "1  01B4CV3K  01B4CV3K.jpeg  2.192580\n",
       "2  02R9pCXz  02R9pCXz.jpeg  5.854731\n",
       "3  02XgtYwT  02XgtYwT.jpeg  6.756191\n",
       "4  02hINknf  02hINknf.jpeg  6.382838"
      ]
     },
     "execution_count": 323,
     "metadata": {},
     "output_type": "execute_result"
    }
   ],
   "source": [
    "subm_df = pd.read_csv(\"full_data_rn34_01.csv\")\n",
    "columns = subm_df.columns\n",
    "print(subm_df.shape)\n",
    "pred = []\n",
    "for g in subm_df.groupby(\"UID\"):\n",
    "    p = g[1][\"pred\"]**2\n",
    "    #print(g[1][\"UID\"].unique()[0])\n",
    "    pred.append([g[1][\"UID\"].unique()[0], g[1][\"img_name\"].unique()[0], np.max([np.min([np.sqrt(p.mean()), 6]),0])+1])\n",
    "subm_df = pd.DataFrame(data = pred, columns = columns)\n",
    "\n",
    "subm_df.head()"
   ]
  },
  {
   "cell_type": "code",
   "execution_count": 324,
   "metadata": {},
   "outputs": [],
   "source": [
    "#subm_df = pd.read_csv(\"pred_rn50_24.csv\")"
   ]
  },
  {
   "cell_type": "code",
   "execution_count": 325,
   "metadata": {},
   "outputs": [],
   "source": [
    "def RMSE(pred, y):\n",
    "    sq = (pred - y) * (pred - y)\n",
    "    #print(sq.hist())\n",
    "    rmse = np.sqrt(np.mean(sq, axis=0)) \n",
    "    return rmse\n",
    "#RMSE(np.array([0.,1.,2.,3.]),np.array([0.,1.,2.,2.]))"
   ]
  },
  {
   "cell_type": "code",
   "execution_count": 326,
   "metadata": {},
   "outputs": [],
   "source": [
    "#subm_df=pd.read_csv(\"large_rn34.csv\")"
   ]
  },
  {
   "cell_type": "code",
   "execution_count": 327,
   "metadata": {
    "scrolled": false
   },
   "outputs": [
    {
     "data": {
      "text/html": [
       "<div>\n",
       "<style scoped>\n",
       "    .dataframe tbody tr th:only-of-type {\n",
       "        vertical-align: middle;\n",
       "    }\n",
       "\n",
       "    .dataframe tbody tr th {\n",
       "        vertical-align: top;\n",
       "    }\n",
       "\n",
       "    .dataframe thead th {\n",
       "        text-align: right;\n",
       "    }\n",
       "</style>\n",
       "<table border=\"1\" class=\"dataframe\">\n",
       "  <thead>\n",
       "    <tr style=\"text-align: right;\">\n",
       "      <th></th>\n",
       "      <th>UID</th>\n",
       "      <th>img_name</th>\n",
       "      <th>pred</th>\n",
       "      <th>growth_stage</th>\n",
       "      <th>label_quality</th>\n",
       "    </tr>\n",
       "  </thead>\n",
       "  <tbody>\n",
       "    <tr>\n",
       "      <th>0</th>\n",
       "      <td>01AJUu7l</td>\n",
       "      <td>01AJUu7l.jpeg</td>\n",
       "      <td>3.890042</td>\n",
       "      <td>7</td>\n",
       "      <td>1</td>\n",
       "    </tr>\n",
       "    <tr>\n",
       "      <th>1</th>\n",
       "      <td>01B4CV3K</td>\n",
       "      <td>01B4CV3K.jpeg</td>\n",
       "      <td>2.192580</td>\n",
       "      <td>2</td>\n",
       "      <td>2</td>\n",
       "    </tr>\n",
       "    <tr>\n",
       "      <th>2</th>\n",
       "      <td>02R9pCXz</td>\n",
       "      <td>02R9pCXz.jpeg</td>\n",
       "      <td>5.854731</td>\n",
       "      <td>7</td>\n",
       "      <td>1</td>\n",
       "    </tr>\n",
       "    <tr>\n",
       "      <th>3</th>\n",
       "      <td>02XgtYwT</td>\n",
       "      <td>02XgtYwT.jpeg</td>\n",
       "      <td>6.756191</td>\n",
       "      <td>7</td>\n",
       "      <td>2</td>\n",
       "    </tr>\n",
       "    <tr>\n",
       "      <th>4</th>\n",
       "      <td>02hINknf</td>\n",
       "      <td>02hINknf.jpeg</td>\n",
       "      <td>6.382838</td>\n",
       "      <td>5</td>\n",
       "      <td>1</td>\n",
       "    </tr>\n",
       "    <tr>\n",
       "      <th>5</th>\n",
       "      <td>03suVk46</td>\n",
       "      <td>03suVk46.jpeg</td>\n",
       "      <td>3.771892</td>\n",
       "      <td>2</td>\n",
       "      <td>1</td>\n",
       "    </tr>\n",
       "    <tr>\n",
       "      <th>6</th>\n",
       "      <td>03vQEfIz</td>\n",
       "      <td>03vQEfIz.jpeg</td>\n",
       "      <td>4.088024</td>\n",
       "      <td>1</td>\n",
       "      <td>1</td>\n",
       "    </tr>\n",
       "    <tr>\n",
       "      <th>7</th>\n",
       "      <td>04J3L9gf</td>\n",
       "      <td>04J3L9gf.jpeg</td>\n",
       "      <td>4.741621</td>\n",
       "      <td>6</td>\n",
       "      <td>1</td>\n",
       "    </tr>\n",
       "    <tr>\n",
       "      <th>8</th>\n",
       "      <td>04Opjmbk</td>\n",
       "      <td>04Opjmbk.jpeg</td>\n",
       "      <td>3.257702</td>\n",
       "      <td>3</td>\n",
       "      <td>2</td>\n",
       "    </tr>\n",
       "    <tr>\n",
       "      <th>9</th>\n",
       "      <td>053h7FH8</td>\n",
       "      <td>053h7FH8.jpeg</td>\n",
       "      <td>4.114574</td>\n",
       "      <td>4</td>\n",
       "      <td>1</td>\n",
       "    </tr>\n",
       "    <tr>\n",
       "      <th>10</th>\n",
       "      <td>05CuzaKJ</td>\n",
       "      <td>05CuzaKJ.jpeg</td>\n",
       "      <td>6.085771</td>\n",
       "      <td>7</td>\n",
       "      <td>1</td>\n",
       "    </tr>\n",
       "    <tr>\n",
       "      <th>11</th>\n",
       "      <td>06ge7FJQ</td>\n",
       "      <td>06ge7FJQ.jpeg</td>\n",
       "      <td>5.225870</td>\n",
       "      <td>5</td>\n",
       "      <td>1</td>\n",
       "    </tr>\n",
       "    <tr>\n",
       "      <th>12</th>\n",
       "      <td>06u9GeJo</td>\n",
       "      <td>06u9GeJo.jpeg</td>\n",
       "      <td>4.428167</td>\n",
       "      <td>5</td>\n",
       "      <td>1</td>\n",
       "    </tr>\n",
       "    <tr>\n",
       "      <th>13</th>\n",
       "      <td>07IgYZbv</td>\n",
       "      <td>07IgYZbv.jpeg</td>\n",
       "      <td>6.591614</td>\n",
       "      <td>2</td>\n",
       "      <td>1</td>\n",
       "    </tr>\n",
       "    <tr>\n",
       "      <th>14</th>\n",
       "      <td>07sBHyhM</td>\n",
       "      <td>07sBHyhM.jpeg</td>\n",
       "      <td>4.181011</td>\n",
       "      <td>7</td>\n",
       "      <td>1</td>\n",
       "    </tr>\n",
       "    <tr>\n",
       "      <th>15</th>\n",
       "      <td>08hgOyKU</td>\n",
       "      <td>08hgOyKU.jpeg</td>\n",
       "      <td>4.067278</td>\n",
       "      <td>5</td>\n",
       "      <td>1</td>\n",
       "    </tr>\n",
       "    <tr>\n",
       "      <th>16</th>\n",
       "      <td>091epTlY</td>\n",
       "      <td>091epTlY.jpeg</td>\n",
       "      <td>6.637402</td>\n",
       "      <td>1</td>\n",
       "      <td>1</td>\n",
       "    </tr>\n",
       "    <tr>\n",
       "      <th>17</th>\n",
       "      <td>09YsAGWz</td>\n",
       "      <td>09YsAGWz.jpeg</td>\n",
       "      <td>7.000000</td>\n",
       "      <td>7</td>\n",
       "      <td>2</td>\n",
       "    </tr>\n",
       "    <tr>\n",
       "      <th>18</th>\n",
       "      <td>09dherxN</td>\n",
       "      <td>09dherxN.jpeg</td>\n",
       "      <td>4.315088</td>\n",
       "      <td>7</td>\n",
       "      <td>1</td>\n",
       "    </tr>\n",
       "    <tr>\n",
       "      <th>19</th>\n",
       "      <td>09zNtKmw</td>\n",
       "      <td>09zNtKmw.jpeg</td>\n",
       "      <td>6.206937</td>\n",
       "      <td>1</td>\n",
       "      <td>1</td>\n",
       "    </tr>\n",
       "  </tbody>\n",
       "</table>\n",
       "</div>"
      ],
      "text/plain": [
       "         UID       img_name      pred  growth_stage  label_quality\n",
       "0   01AJUu7l  01AJUu7l.jpeg  3.890042             7              1\n",
       "1   01B4CV3K  01B4CV3K.jpeg  2.192580             2              2\n",
       "2   02R9pCXz  02R9pCXz.jpeg  5.854731             7              1\n",
       "3   02XgtYwT  02XgtYwT.jpeg  6.756191             7              2\n",
       "4   02hINknf  02hINknf.jpeg  6.382838             5              1\n",
       "5   03suVk46  03suVk46.jpeg  3.771892             2              1\n",
       "6   03vQEfIz  03vQEfIz.jpeg  4.088024             1              1\n",
       "7   04J3L9gf  04J3L9gf.jpeg  4.741621             6              1\n",
       "8   04Opjmbk  04Opjmbk.jpeg  3.257702             3              2\n",
       "9   053h7FH8  053h7FH8.jpeg  4.114574             4              1\n",
       "10  05CuzaKJ  05CuzaKJ.jpeg  6.085771             7              1\n",
       "11  06ge7FJQ  06ge7FJQ.jpeg  5.225870             5              1\n",
       "12  06u9GeJo  06u9GeJo.jpeg  4.428167             5              1\n",
       "13  07IgYZbv  07IgYZbv.jpeg  6.591614             2              1\n",
       "14  07sBHyhM  07sBHyhM.jpeg  4.181011             7              1\n",
       "15  08hgOyKU  08hgOyKU.jpeg  4.067278             5              1\n",
       "16  091epTlY  091epTlY.jpeg  6.637402             1              1\n",
       "17  09YsAGWz  09YsAGWz.jpeg  7.000000             7              2\n",
       "18  09dherxN  09dherxN.jpeg  4.315088             7              1\n",
       "19  09zNtKmw  09zNtKmw.jpeg  6.206937             1              1"
      ]
     },
     "execution_count": 327,
     "metadata": {},
     "output_type": "execute_result"
    }
   ],
   "source": [
    "subm_df = subm_df.merge(df[[\"UID\", \"growth_stage\", \"label_quality\"]], on=\"UID\")\n",
    "subm_df.head(20)"
   ]
  },
  {
   "cell_type": "code",
   "execution_count": 328,
   "metadata": {},
   "outputs": [
    {
     "data": {
      "text/plain": [
       "(10695,)"
      ]
     },
     "execution_count": 328,
     "metadata": {},
     "output_type": "execute_result"
    }
   ],
   "source": [
    "subm_df[\"UID\"].shape"
   ]
  },
  {
   "cell_type": "code",
   "execution_count": 329,
   "metadata": {},
   "outputs": [
    {
     "data": {
      "text/plain": [
       "(10695, 4)"
      ]
     },
     "execution_count": 329,
     "metadata": {},
     "output_type": "execute_result"
    }
   ],
   "source": [
    "df[df[\"UID\"].isin(subm_df[\"UID\"])].shape"
   ]
  },
  {
   "cell_type": "code",
   "execution_count": 330,
   "metadata": {},
   "outputs": [
    {
     "data": {
      "text/plain": [
       "(10695, 5)"
      ]
     },
     "execution_count": 330,
     "metadata": {},
     "output_type": "execute_result"
    }
   ],
   "source": [
    "subm_df[subm_df[\"UID\"].isin(df[\"UID\"])].shape"
   ]
  },
  {
   "cell_type": "code",
   "execution_count": 331,
   "metadata": {},
   "outputs": [
    {
     "data": {
      "text/plain": [
       "0"
      ]
     },
     "execution_count": 331,
     "metadata": {},
     "output_type": "execute_result"
    }
   ],
   "source": [
    "subm_df.duplicated(subset=\"UID\").sum()"
   ]
  },
  {
   "cell_type": "code",
   "execution_count": null,
   "metadata": {},
   "outputs": [],
   "source": []
  },
  {
   "cell_type": "code",
   "execution_count": 332,
   "metadata": {},
   "outputs": [
    {
     "data": {
      "text/plain": [
       "0.32792465030845547"
      ]
     },
     "execution_count": 332,
     "metadata": {},
     "output_type": "execute_result"
    }
   ],
   "source": [
    "RMSE(subm_df[subm_df[\"label_quality\"] == 2][\"pred\"], subm_df[subm_df[\"label_quality\"] == 2][\"growth_stage\"])"
   ]
  },
  {
   "cell_type": "code",
   "execution_count": 333,
   "metadata": {},
   "outputs": [
    {
     "data": {
      "text/plain": [
       "0.32792465030845536"
      ]
     },
     "execution_count": 333,
     "metadata": {},
     "output_type": "execute_result"
    }
   ],
   "source": [
    "gs = []\n",
    "pred = []\n",
    "for r in subm_df[subm_df[\"label_quality\"] == 2].iterrows():\n",
    "    #print(r[1][\"pred\"])\n",
    "    pred.extend([r[1][\"pred\"]])\n",
    "    gs.extend(df[df[\"UID\"] == r[1][\"UID\"]][\"growth_stage\"].to_numpy())\n",
    "#print(gs, pred)\n",
    "RMSE(np.array(gs), np.array(pred))"
   ]
  },
  {
   "cell_type": "code",
   "execution_count": 334,
   "metadata": {},
   "outputs": [
    {
     "ename": "SyntaxError",
     "evalue": "invalid syntax (<ipython-input-334-71301ddb6680>, line 2)",
     "output_type": "error",
     "traceback": [
      "\u001b[0;36m  File \u001b[0;32m\"<ipython-input-334-71301ddb6680>\"\u001b[0;36m, line \u001b[0;32m2\u001b[0m\n\u001b[0;31m    train_rn34_middle_22.csv  0.41800178754143724\u001b[0m\n\u001b[0m                              ^\u001b[0m\n\u001b[0;31mSyntaxError\u001b[0m\u001b[0;31m:\u001b[0m invalid syntax\n"
     ]
    }
   ],
   "source": [
    "0.4615597475340819\n",
    "train_rn34_middle_22.csv  0.41800178754143724\n",
    "middle rn50 0.4307019231117651\n",
    "middle rn34 0.3402762293168213\n",
    "small b1 0.473485872461246\n",
    "small b1 train_b1_28.csv 0.44295648456503794  20 эпох верхние слои\n",
    "train_b1_28_1.csv 0.4465984363380721 + 20 ''\n",
    "large rn34 0.4377987754014158\n",
    "large rn34 - первая утренняя попытка 0.3709703573172524\n",
    "large rn34 на части данных 15 эпох 0.40300708160443405\n",
    "то же на полных данных 0.4657637965825579\n",
    "\n",
    "еще поучили rn34 0.3794301894500912"
   ]
  },
  {
   "cell_type": "code",
   "execution_count": null,
   "metadata": {},
   "outputs": [],
   "source": [
    "subm_df.sort_values(by=\"UID\")[\"growth_stage\"] = df.sort_values(by=\"UID\")[df[\"UID\"].isin(subm_df[\"UID\"])][\"growth_stage\"]\n",
    "#subm_df= subm_df.dropna()\n",
    "RMSE(subm_df[\"growth_stage\"], subm_df[\"pred\"])"
   ]
  },
  {
   "cell_type": "code",
   "execution_count": null,
   "metadata": {},
   "outputs": [],
   "source": [
    "subm_df[subm_df[\"ground_truth\"] - subm_df[\"pred\"] == 3].head(20)"
   ]
  },
  {
   "cell_type": "code",
   "execution_count": null,
   "metadata": {},
   "outputs": [],
   "source": [
    "subm_df.loc[179]"
   ]
  },
  {
   "cell_type": "code",
   "execution_count": null,
   "metadata": {},
   "outputs": [],
   "source": [
    "subm_df[\"p1\"] = subm_df[\"1_data\"].apply(lambda x: 1 if x>0.7 else None) * subm_df[\"1\"]\n",
    "subm_df[\"p2\"] = subm_df[\"2_data\"].apply(lambda x: 1 if x>0.7 else None) * subm_df[\"2\"]\n",
    "subm_df[\"p3\"] = subm_df[\"3_data\"].apply(lambda x: 1 if x>0.7 else None) * subm_df[\"3\"]\n",
    "subm_df[\"p4\"] = subm_df[\"4_data\"].apply(lambda x: 1 if x>0.7 else None) * subm_df[\"4\"]\n",
    "subm_df[\"p5\"] = subm_df[\"5_data\"].apply(lambda x: 1 if x>0.7 else None) * subm_df[\"5\"]\n",
    "subm_df.head(10)"
   ]
  },
  {
   "cell_type": "code",
   "execution_count": null,
   "metadata": {},
   "outputs": [],
   "source": [
    "subm_df.shape"
   ]
  },
  {
   "cell_type": "code",
   "execution_count": null,
   "metadata": {},
   "outputs": [],
   "source": [
    "df[\"UID\"].to_numpy()"
   ]
  },
  {
   "cell_type": "code",
   "execution_count": null,
   "metadata": {},
   "outputs": [],
   "source": [
    "new_arr = []\n",
    "for i in subm_df.iterrows():\n",
    "     if i[1][\"UID\"] not in df[\"UID\"].to_numpy():\n",
    "            new_arr.append(i[1])\n",
    "new_df = pd.DataFrame(data = new_arr, columns = subm_df.columns)\n",
    "new_df.head()"
   ]
  },
  {
   "cell_type": "code",
   "execution_count": null,
   "metadata": {},
   "outputs": [],
   "source": [
    "new_df[\"pred\"] = round(new_df[[\"p1\", \"p2\", \"p3\", \"p4\", \"p5\"]].median(axis=1, skipna=True)) + 1"
   ]
  },
  {
   "cell_type": "code",
   "execution_count": null,
   "metadata": {},
   "outputs": [],
   "source": [
    "new_df[\"pred\"].hist()"
   ]
  },
  {
   "cell_type": "code",
   "execution_count": null,
   "metadata": {},
   "outputs": [],
   "source": [
    "new_df[120:140]"
   ]
  },
  {
   "cell_type": "code",
   "execution_count": null,
   "metadata": {},
   "outputs": [],
   "source": [
    "def gt2(x):\n",
    "    #print(x.shape)\n",
    "    n = np.argmax(x[:5], axis=0)\n",
    "    return x[5+n]\n",
    "new_df[\"gt2\"] = new_df[[\"1_data\",\"2_data\",\"3_data\",\"4_data\",\"5_data\",\n",
    "                        \"1\", \"2\", \"3\", \"4\", \"5\"]].apply(lambda x: gt2(x) + 1, axis=1)\n",
    "new_df.head(20)"
   ]
  },
  {
   "cell_type": "code",
   "execution_count": null,
   "metadata": {},
   "outputs": [],
   "source": [
    "new_df[new_df[\"pred\"] != new_df[\"gt2\"]]\n",
    "RMSE(new_df[\"pred\"], new_df[\"gt2\"])"
   ]
  },
  {
   "cell_type": "code",
   "execution_count": null,
   "metadata": {},
   "outputs": [],
   "source": [
    "new_df[new_df[\"pred\"] != new_df[\"growth_stage\"]]\n",
    "RMSE(new_df[\"pred\"], new_df[\"growth_stage\"])"
   ]
  },
  {
   "cell_type": "code",
   "execution_count": null,
   "metadata": {},
   "outputs": [],
   "source": [
    "new_df[new_df[\"gt2\"] != new_df[\"growth_stage\"]]\n",
    "RMSE(new_df[\"gt2\"], new_df[\"growth_stage\"])"
   ]
  },
  {
   "cell_type": "code",
   "execution_count": null,
   "metadata": {},
   "outputs": [],
   "source": [
    "RMSE(subm1[\"growth_stage\"], new_df[\"growth_stage\"])"
   ]
  },
  {
   "cell_type": "code",
   "execution_count": null,
   "metadata": {},
   "outputs": [],
   "source": [
    "new_df[[\"UID\", \"gt2\"]]"
   ]
  },
  {
   "cell_type": "code",
   "execution_count": null,
   "metadata": {},
   "outputs": [],
   "source": [
    "submission = pd.DataFrame(data = new_df[[\"UID\", \"growth_stage\"]].to_numpy(), columns=[\"UID\", \"growth_stage\"])  \n",
    "submission.to_csv(\"submission_1109_2.csv\", index=False)"
   ]
  },
  {
   "cell_type": "code",
   "execution_count": null,
   "metadata": {},
   "outputs": [],
   "source": [
    "submission.head()"
   ]
  },
  {
   "cell_type": "code",
   "execution_count": null,
   "metadata": {},
   "outputs": [],
   "source": [
    "submission.shape"
   ]
  },
  {
   "cell_type": "code",
   "execution_count": null,
   "metadata": {},
   "outputs": [],
   "source": [
    "subm_df[subm_df[\"rmse\"] > 8].head(20)"
   ]
  },
  {
   "cell_type": "code",
   "execution_count": null,
   "metadata": {},
   "outputs": [],
   "source": [
    "subm1.sort_values(\"UID\").head(20)"
   ]
  },
  {
   "cell_type": "code",
   "execution_count": null,
   "metadata": {},
   "outputs": [],
   "source": [
    "new_df.sort_values(\"UID\").head(20)"
   ]
  },
  {
   "cell_type": "code",
   "execution_count": null,
   "metadata": {},
   "outputs": [],
   "source": [
    "subm_df[\"rmse\"] = (subm_df[\"ground_truth\"] - subm_df[\"pred\"]) * (subm_df[\"ground_truth\"] - subm_df[\"pred\"])\n",
    "np.sqrt(np.mean(subm_df[\"rmse\"]))"
   ]
  },
  {
   "cell_type": "code",
   "execution_count": null,
   "metadata": {},
   "outputs": [],
   "source": [
    "1.351383755217667"
   ]
  },
  {
   "cell_type": "code",
   "execution_count": null,
   "metadata": {},
   "outputs": [],
   "source": []
  },
  {
   "cell_type": "code",
   "execution_count": null,
   "metadata": {},
   "outputs": [],
   "source": [
    "subm_df.sort_values(\"img_name\").head(20)"
   ]
  },
  {
   "cell_type": "code",
   "execution_count": null,
   "metadata": {},
   "outputs": [],
   "source": [
    "subm1 = pd.read_csv(\"submission_1109.csv\")\n",
    "for i in subm1.iterrows():\n",
    "    if new_df[new_df[\"UID\"] == i[1][\"UID\"]].shape[0] == 0:\n",
    "        print(i)\n",
    "    #print(new_df[new_df[\"UID\"] == i[1][\"UID\"]][\"growth_stage\"].to_numpy()[0])\n",
    "    if new_df[new_df[\"UID\"] == i[1][\"UID\"]][\"growth_stage\"].to_numpy()[0] != i[1][\"growth_stage\"]:\n",
    "        print(new_df[new_df[\"UID\"] == i[1][\"UID\"]])"
   ]
  },
  {
   "cell_type": "code",
   "execution_count": null,
   "metadata": {},
   "outputs": [],
   "source": []
  },
  {
   "cell_type": "code",
   "execution_count": null,
   "metadata": {},
   "outputs": [],
   "source": []
  },
  {
   "cell_type": "code",
   "execution_count": null,
   "metadata": {},
   "outputs": [],
   "source": []
  },
  {
   "cell_type": "code",
   "execution_count": null,
   "metadata": {},
   "outputs": [],
   "source": []
  }
 ],
 "metadata": {
  "kernelspec": {
   "display_name": "Python 3",
   "language": "python",
   "name": "python3"
  },
  "language_info": {
   "codemirror_mode": {
    "name": "ipython",
    "version": 3
   },
   "file_extension": ".py",
   "mimetype": "text/x-python",
   "name": "python",
   "nbconvert_exporter": "python",
   "pygments_lexer": "ipython3",
   "version": "3.8.3"
  }
 },
 "nbformat": 4,
 "nbformat_minor": 4
}
