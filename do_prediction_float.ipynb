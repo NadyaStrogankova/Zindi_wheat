{
 "cells": [
  {
   "cell_type": "code",
   "execution_count": 41,
   "metadata": {},
   "outputs": [],
   "source": [
    "import numpy as np\n",
    "import pandas as pd\n",
    "import matplotlib.pyplot as plt\n",
    "%matplotlib inline\n",
    "\n",
    "import os\n",
    "from io import BytesIO\n",
    "from PIL import Image\n",
    "import cv2\n",
    "import re"
   ]
  },
  {
   "cell_type": "markdown",
   "metadata": {},
   "source": [
    "## Самый эффективный способ усреднять - просто брать среднюю метку. \n"
   ]
  },
  {
   "cell_type": "code",
   "execution_count": 42,
   "metadata": {
    "scrolled": false
   },
   "outputs": [
    {
     "name": "stdout",
     "output_type": "stream",
     "text": [
      "(53370, 3)\n"
     ]
    },
    {
     "data": {
      "text/html": [
       "<div>\n",
       "<style scoped>\n",
       "    .dataframe tbody tr th:only-of-type {\n",
       "        vertical-align: middle;\n",
       "    }\n",
       "\n",
       "    .dataframe tbody tr th {\n",
       "        vertical-align: top;\n",
       "    }\n",
       "\n",
       "    .dataframe thead th {\n",
       "        text-align: right;\n",
       "    }\n",
       "</style>\n",
       "<table border=\"1\" class=\"dataframe\">\n",
       "  <thead>\n",
       "    <tr style=\"text-align: right;\">\n",
       "      <th></th>\n",
       "      <th>UID</th>\n",
       "      <th>img_name</th>\n",
       "      <th>pred</th>\n",
       "    </tr>\n",
       "  </thead>\n",
       "  <tbody>\n",
       "    <tr>\n",
       "      <th>0</th>\n",
       "      <td>01nUuQaf</td>\n",
       "      <td>01nUuQaf.jpeg</td>\n",
       "      <td>1.696746</td>\n",
       "    </tr>\n",
       "    <tr>\n",
       "      <th>1</th>\n",
       "      <td>02QNbFW3</td>\n",
       "      <td>02QNbFW3.jpeg</td>\n",
       "      <td>2.988216</td>\n",
       "    </tr>\n",
       "    <tr>\n",
       "      <th>2</th>\n",
       "      <td>02l3WRi5</td>\n",
       "      <td>02l3WRi5.jpeg</td>\n",
       "      <td>3.780100</td>\n",
       "    </tr>\n",
       "    <tr>\n",
       "      <th>3</th>\n",
       "      <td>02r3NCOn</td>\n",
       "      <td>02r3NCOn.jpeg</td>\n",
       "      <td>3.431263</td>\n",
       "    </tr>\n",
       "    <tr>\n",
       "      <th>4</th>\n",
       "      <td>03DVBfql</td>\n",
       "      <td>03DVBfql.jpeg</td>\n",
       "      <td>2.021711</td>\n",
       "    </tr>\n",
       "  </tbody>\n",
       "</table>\n",
       "</div>"
      ],
      "text/plain": [
       "        UID       img_name      pred\n",
       "0  01nUuQaf  01nUuQaf.jpeg  1.696746\n",
       "1  02QNbFW3  02QNbFW3.jpeg  2.988216\n",
       "2  02l3WRi5  02l3WRi5.jpeg  3.780100\n",
       "3  02r3NCOn  02r3NCOn.jpeg  3.431263\n",
       "4  03DVBfql  03DVBfql.jpeg  2.021711"
      ]
     },
     "execution_count": 42,
     "metadata": {},
     "output_type": "execute_result"
    }
   ],
   "source": [
    "subm_df = pd.read_csv(\"test_rn34_04_2.csv\")\n",
    "columns = subm_df.columns\n",
    "print(subm_df.shape)\n",
    "pred = []\n",
    "for g in subm_df.groupby(\"UID\"):\n",
    "    p = g[1][\"pred\"]**2\n",
    "    #print(g[1][\"UID\"].unique()[0])\n",
    "    pred.append([g[1][\"UID\"].unique()[0], g[1][\"img_name\"].unique()[0], np.max(np.min([np.sqrt(p.mean()), 6]),0)+1])\n",
    "subm_df = pd.DataFrame(data = pred, columns = columns)\n",
    "\n",
    "subm_df.head()"
   ]
  },
  {
   "cell_type": "code",
   "execution_count": 43,
   "metadata": {},
   "outputs": [],
   "source": [
    "def trash_round(x):\n",
    "    if abs(round(x) - x) < 0.1:\n",
    "        return round(x)\n",
    "    else: \n",
    "        return x\n",
    "subm_df[\"pred\"] = subm_df[\"pred\"].apply(lambda x: trash_round(x))"
   ]
  },
  {
   "cell_type": "code",
   "execution_count": 44,
   "metadata": {},
   "outputs": [
    {
     "data": {
      "text/plain": [
       "count    3558.000000\n",
       "mean        3.697835\n",
       "std         1.365071\n",
       "min         1.134551\n",
       "25%         3.000000\n",
       "50%         3.595095\n",
       "75%         4.259142\n",
       "max         7.000000\n",
       "Name: pred, dtype: float64"
      ]
     },
     "execution_count": 44,
     "metadata": {},
     "output_type": "execute_result"
    }
   ],
   "source": [
    "subm_df[\"pred\"].describe()"
   ]
  },
  {
   "cell_type": "code",
   "execution_count": 45,
   "metadata": {},
   "outputs": [
    {
     "data": {
      "text/html": [
       "<div>\n",
       "<style scoped>\n",
       "    .dataframe tbody tr th:only-of-type {\n",
       "        vertical-align: middle;\n",
       "    }\n",
       "\n",
       "    .dataframe tbody tr th {\n",
       "        vertical-align: top;\n",
       "    }\n",
       "\n",
       "    .dataframe thead th {\n",
       "        text-align: right;\n",
       "    }\n",
       "</style>\n",
       "<table border=\"1\" class=\"dataframe\">\n",
       "  <thead>\n",
       "    <tr style=\"text-align: right;\">\n",
       "      <th></th>\n",
       "      <th>UID</th>\n",
       "      <th>growth_stage</th>\n",
       "    </tr>\n",
       "  </thead>\n",
       "  <tbody>\n",
       "    <tr>\n",
       "      <th>0</th>\n",
       "      <td>F3LbWkZq</td>\n",
       "      <td>0</td>\n",
       "    </tr>\n",
       "    <tr>\n",
       "      <th>1</th>\n",
       "      <td>6P4wLVzI</td>\n",
       "      <td>0</td>\n",
       "    </tr>\n",
       "    <tr>\n",
       "      <th>2</th>\n",
       "      <td>Tn6HIrdS</td>\n",
       "      <td>0</td>\n",
       "    </tr>\n",
       "    <tr>\n",
       "      <th>3</th>\n",
       "      <td>EYM5R1TK</td>\n",
       "      <td>0</td>\n",
       "    </tr>\n",
       "    <tr>\n",
       "      <th>4</th>\n",
       "      <td>fkcevlA0</td>\n",
       "      <td>0</td>\n",
       "    </tr>\n",
       "  </tbody>\n",
       "</table>\n",
       "</div>"
      ],
      "text/plain": [
       "        UID  growth_stage\n",
       "0  F3LbWkZq             0\n",
       "1  6P4wLVzI             0\n",
       "2  Tn6HIrdS             0\n",
       "3  EYM5R1TK             0\n",
       "4  fkcevlA0             0"
      ]
     },
     "execution_count": 45,
     "metadata": {},
     "output_type": "execute_result"
    }
   ],
   "source": [
    "subm_sample = pd.read_csv(\"SampleSubmission.csv\")\n",
    "subm_sample.head()"
   ]
  },
  {
   "cell_type": "code",
   "execution_count": 46,
   "metadata": {},
   "outputs": [
    {
     "data": {
      "text/html": [
       "<div>\n",
       "<style scoped>\n",
       "    .dataframe tbody tr th:only-of-type {\n",
       "        vertical-align: middle;\n",
       "    }\n",
       "\n",
       "    .dataframe tbody tr th {\n",
       "        vertical-align: top;\n",
       "    }\n",
       "\n",
       "    .dataframe thead th {\n",
       "        text-align: right;\n",
       "    }\n",
       "</style>\n",
       "<table border=\"1\" class=\"dataframe\">\n",
       "  <thead>\n",
       "    <tr style=\"text-align: right;\">\n",
       "      <th></th>\n",
       "      <th>UID</th>\n",
       "      <th>growth_stage</th>\n",
       "      <th>img_name</th>\n",
       "      <th>pred</th>\n",
       "    </tr>\n",
       "  </thead>\n",
       "  <tbody>\n",
       "    <tr>\n",
       "      <th>0</th>\n",
       "      <td>F3LbWkZq</td>\n",
       "      <td>0</td>\n",
       "      <td>F3LbWkZq.jpeg</td>\n",
       "      <td>4.429251</td>\n",
       "    </tr>\n",
       "    <tr>\n",
       "      <th>1</th>\n",
       "      <td>6P4wLVzI</td>\n",
       "      <td>0</td>\n",
       "      <td>6P4wLVzI.jpeg</td>\n",
       "      <td>3.507466</td>\n",
       "    </tr>\n",
       "    <tr>\n",
       "      <th>2</th>\n",
       "      <td>Tn6HIrdS</td>\n",
       "      <td>0</td>\n",
       "      <td>Tn6HIrdS.jpeg</td>\n",
       "      <td>2.823041</td>\n",
       "    </tr>\n",
       "    <tr>\n",
       "      <th>3</th>\n",
       "      <td>EYM5R1TK</td>\n",
       "      <td>0</td>\n",
       "      <td>EYM5R1TK.jpeg</td>\n",
       "      <td>4.266083</td>\n",
       "    </tr>\n",
       "    <tr>\n",
       "      <th>4</th>\n",
       "      <td>fkcevlA0</td>\n",
       "      <td>0</td>\n",
       "      <td>fkcevlA0.jpeg</td>\n",
       "      <td>5.846145</td>\n",
       "    </tr>\n",
       "  </tbody>\n",
       "</table>\n",
       "</div>"
      ],
      "text/plain": [
       "        UID  growth_stage       img_name      pred\n",
       "0  F3LbWkZq             0  F3LbWkZq.jpeg  4.429251\n",
       "1  6P4wLVzI             0  6P4wLVzI.jpeg  3.507466\n",
       "2  Tn6HIrdS             0  Tn6HIrdS.jpeg  2.823041\n",
       "3  EYM5R1TK             0  EYM5R1TK.jpeg  4.266083\n",
       "4  fkcevlA0             0  fkcevlA0.jpeg  5.846145"
      ]
     },
     "execution_count": 46,
     "metadata": {},
     "output_type": "execute_result"
    }
   ],
   "source": [
    "subm_df = subm_sample.merge(subm_df, on=\"UID\", how=\"left\")\n",
    "subm_df.head()"
   ]
  },
  {
   "cell_type": "code",
   "execution_count": 47,
   "metadata": {},
   "outputs": [
    {
     "data": {
      "text/plain": [
       "(3558, 4)"
      ]
     },
     "execution_count": 47,
     "metadata": {},
     "output_type": "execute_result"
    }
   ],
   "source": [
    "subm_df.shape"
   ]
  },
  {
   "cell_type": "code",
   "execution_count": 48,
   "metadata": {},
   "outputs": [],
   "source": [
    "submission = pd.DataFrame(data = subm_df[[\"UID\", \"pred\"]].to_numpy(), columns=[\"UID\", \"growth_stage\"])  \n",
    "submission.to_csv(\"submission_0410_rn34_2.csv\", index=False)"
   ]
  },
  {
   "cell_type": "code",
   "execution_count": null,
   "metadata": {},
   "outputs": [],
   "source": []
  },
  {
   "cell_type": "code",
   "execution_count": 49,
   "metadata": {},
   "outputs": [
    {
     "data": {
      "text/plain": [
       "(3558, 2)"
      ]
     },
     "execution_count": 49,
     "metadata": {},
     "output_type": "execute_result"
    }
   ],
   "source": [
    "submission.shape"
   ]
  }
 ],
 "metadata": {
  "kernelspec": {
   "display_name": "Python 3",
   "language": "python",
   "name": "python3"
  },
  "language_info": {
   "codemirror_mode": {
    "name": "ipython",
    "version": 3
   },
   "file_extension": ".py",
   "mimetype": "text/x-python",
   "name": "python",
   "nbconvert_exporter": "python",
   "pygments_lexer": "ipython3",
   "version": "3.8.3"
  }
 },
 "nbformat": 4,
 "nbformat_minor": 4
}
