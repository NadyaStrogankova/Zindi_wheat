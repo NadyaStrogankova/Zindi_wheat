{
 "cells": [
  {
   "cell_type": "markdown",
   "metadata": {},
   "source": [
    "# 1 часть: ремонт категорий, увеличение картинок\n"
   ]
  },
  {
   "cell_type": "code",
   "execution_count": 176,
   "metadata": {},
   "outputs": [],
   "source": [
    "import numpy as np\n",
    "import pandas as pd\n",
    "import matplotlib.pyplot as plt\n",
    "%matplotlib inline\n",
    "\n",
    "import os\n",
    "from io import BytesIO\n",
    "from PIL import Image\n",
    "import cv2\n"
   ]
  },
  {
   "cell_type": "code",
   "execution_count": 177,
   "metadata": {},
   "outputs": [
    {
     "data": {
      "text/html": [
       "<div>\n",
       "<style scoped>\n",
       "    .dataframe tbody tr th:only-of-type {\n",
       "        vertical-align: middle;\n",
       "    }\n",
       "\n",
       "    .dataframe tbody tr th {\n",
       "        vertical-align: top;\n",
       "    }\n",
       "\n",
       "    .dataframe thead th {\n",
       "        text-align: right;\n",
       "    }\n",
       "</style>\n",
       "<table border=\"1\" class=\"dataframe\">\n",
       "  <thead>\n",
       "    <tr style=\"text-align: right;\">\n",
       "      <th></th>\n",
       "      <th>UID</th>\n",
       "      <th>growth_stage</th>\n",
       "      <th>label_quality</th>\n",
       "      <th>img_name</th>\n",
       "    </tr>\n",
       "  </thead>\n",
       "  <tbody>\n",
       "    <tr>\n",
       "      <th>0</th>\n",
       "      <td>nwuCTQKz</td>\n",
       "      <td>4</td>\n",
       "      <td>2</td>\n",
       "      <td>nwuCTQKz.jpeg</td>\n",
       "    </tr>\n",
       "    <tr>\n",
       "      <th>1</th>\n",
       "      <td>NVGUOzWu</td>\n",
       "      <td>1</td>\n",
       "      <td>1</td>\n",
       "      <td>NVGUOzWu.jpeg</td>\n",
       "    </tr>\n",
       "    <tr>\n",
       "      <th>2</th>\n",
       "      <td>1IYVvHwA</td>\n",
       "      <td>1</td>\n",
       "      <td>1</td>\n",
       "      <td>1IYVvHwA.jpeg</td>\n",
       "    </tr>\n",
       "    <tr>\n",
       "      <th>3</th>\n",
       "      <td>8OEdWwmU</td>\n",
       "      <td>1</td>\n",
       "      <td>1</td>\n",
       "      <td>8OEdWwmU.jpeg</td>\n",
       "    </tr>\n",
       "    <tr>\n",
       "      <th>4</th>\n",
       "      <td>oc5iO04j</td>\n",
       "      <td>1</td>\n",
       "      <td>1</td>\n",
       "      <td>oc5iO04j.jpeg</td>\n",
       "    </tr>\n",
       "  </tbody>\n",
       "</table>\n",
       "</div>"
      ],
      "text/plain": [
       "        UID  growth_stage  label_quality       img_name\n",
       "0  nwuCTQKz             4              2  nwuCTQKz.jpeg\n",
       "1  NVGUOzWu             1              1  NVGUOzWu.jpeg\n",
       "2  1IYVvHwA             1              1  1IYVvHwA.jpeg\n",
       "3  8OEdWwmU             1              1  8OEdWwmU.jpeg\n",
       "4  oc5iO04j             1              1  oc5iO04j.jpeg"
      ]
     },
     "execution_count": 177,
     "metadata": {},
     "output_type": "execute_result"
    }
   ],
   "source": [
    "df = pd.read_csv(\"Train.csv\")\n",
    "df[\"img_name\"] = df[\"UID\"].apply(lambda x: \".\".join([x, \"jpeg\"]))\n",
    "df.head()"
   ]
  },
  {
   "cell_type": "code",
   "execution_count": 178,
   "metadata": {},
   "outputs": [
    {
     "data": {
      "text/html": [
       "<div>\n",
       "<style scoped>\n",
       "    .dataframe tbody tr th:only-of-type {\n",
       "        vertical-align: middle;\n",
       "    }\n",
       "\n",
       "    .dataframe tbody tr th {\n",
       "        vertical-align: top;\n",
       "    }\n",
       "\n",
       "    .dataframe thead th {\n",
       "        text-align: right;\n",
       "    }\n",
       "</style>\n",
       "<table border=\"1\" class=\"dataframe\">\n",
       "  <thead>\n",
       "    <tr style=\"text-align: right;\">\n",
       "      <th></th>\n",
       "      <th>UID</th>\n",
       "      <th>growth_stage</th>\n",
       "      <th>label_quality</th>\n",
       "      <th>img_name</th>\n",
       "    </tr>\n",
       "  </thead>\n",
       "  <tbody>\n",
       "    <tr>\n",
       "      <th>9458</th>\n",
       "      <td>e3MzqN9F</td>\n",
       "      <td>3</td>\n",
       "      <td>2</td>\n",
       "      <td>e3MzqN9F.jpeg</td>\n",
       "    </tr>\n",
       "  </tbody>\n",
       "</table>\n",
       "</div>"
      ],
      "text/plain": [
       "           UID  growth_stage  label_quality       img_name\n",
       "9458  e3MzqN9F             3              2  e3MzqN9F.jpeg"
      ]
     },
     "execution_count": 178,
     "metadata": {},
     "output_type": "execute_result"
    }
   ],
   "source": [
    "#Вытаскиваю из 1 категории настоящие 1 стадии(до 4 листьев)\n",
    "df.loc[2074,\"label_quality\"] = 0 # фото пейзажа из машины\n",
    "df.loc[7488,\"label_quality\"] = 2 # точно голое поле\n",
    "df.loc[10048,\"label_quality\"] = 0 # полностью черная картинка\n",
    "df.loc[590,\"label_quality\"] = 2 # точно голое поле\n",
    "df.loc[8207,\"label_quality\"] = 2 # точно голое поле\n",
    "df.loc[2814,\"label_quality\"] = 2 # точно голое поле\n",
    "df.loc[2528,\"label_quality\"] = 2 # точно голое поле\n",
    "df.loc[7467,\"label_quality\"] = 2 # точно голое поле\n",
    "df.loc[6956,\"label_quality\"] = 2 # точно голое поле\n",
    "df.loc[8506,\"label_quality\"] = 2 # точно голое поле\n",
    "df.loc[7611,\"label_quality\"] = 2 # точно голое поле\n",
    "\n",
    "\n",
    "df.loc[7209,\"label_quality\"] = 2 # почти голое поле\n",
    "df.loc[4294,\"label_quality\"] = 2 # почти голое поле\n",
    "df.loc[1799,\"label_quality\"] = 2 # почти голое поле\n",
    "df.loc[2035,\"label_quality\"] = 2 # почти голое поле\n",
    "df.loc[2494,\"label_quality\"] = 2 # почти голое поле\n",
    "df.loc[24,\"label_quality\"] = 2 # почти голое поле\n",
    "\n",
    "df.loc[10338,\"label_quality\"] = 2 # почти голое поле\n",
    "df.loc[2706,\"label_quality\"] = 1 # скорее 3 стадия\n",
    "df.loc[2753,\"label_quality\"] = 0 # не пшеница, а какие-то цветы\n",
    "\n",
    "\n",
    "#Ремонт 4 категории\n",
    "df.loc[4252,\"label_quality\"] = 1 # половина фото занимает куча земли \n",
    "df.loc[10453,\"label_quality\"] = 1 # очень размытое фото \n",
    "df.loc[10449,\"label_quality\"] = 1 # что-то я сильно сомневаюсь, что эти травинки 4 стадии роста\n",
    "\n",
    "\n",
    "#Ремонт 2 стадии. Убираю из экспертной 2 стадии голую землю\n",
    "df.loc[4723,\"growth_stage\"] = 1 # почти голое поле\n",
    "df.loc[4227,\"growth_stage\"] = 1 # почти голое поле\n",
    "df.loc[10208,\"growth_stage\"] = 1 # почти голое поле\n",
    "#df.loc[4513,\"growth_stage\"] = 1 # почти голое поле, а модель считает, что это вторая стадия\n",
    "df.loc[343,\"growth_stage\"] = 1 # почти голое поле\n",
    "df.loc[10646,\"growth_stage\"] = 1 # почти голое поле\n",
    "\n",
    "df.loc[2156,\"growth_stage\"] = 1 # голое поле\n",
    "df.loc[4127,\"growth_stage\"] = 1 # голое поле\n",
    "df.loc[1680,\"growth_stage\"] = 1 # голое поле\n",
    "df.loc[3603,\"growth_stage\"] = 1 # голое поле\n",
    "df.loc[122,\"growth_stage\"] = 2 # почти голое поле\n",
    "\n",
    "# Ремонт 3 стадии\n",
    "df.loc[7657,\"label_quality\"] = 1 # по мнению модели, это 2 стадия и на вид она. \n",
    "df.loc[1987,\"label_quality\"] = 1 # по мнению модели, это 2 стадия и на вид она. \n",
    "df.loc[8078,\"label_quality\"] = 1 # по мнению модели, это 4 стадия и на вид она. \n",
    "df.loc[2606,\"label_quality\"] = 1 # по мнению модели, это 4 стадия и на вид она. \n",
    "df.loc[633,\"label_quality\"] = 1 # модель ошибается\n",
    "df.loc[8184,\"label_quality\"] = 1 # модель ошибается\n",
    "df.loc[7950,\"label_quality\"] = 1 # модель ошибается\n",
    "\n",
    "# Растягиваю 3 и 4 стадии\n",
    "df.loc[[1258, 1519, 3156, 4494, 5624, 5960, 6696, 10058, 10280],\"label_quality\"] = 1\n",
    "\n",
    "# Ремонт 4 стадии\n",
    "df.loc[3100,\"label_quality\"] = 1 # по мнению модели, это 3 стадия и на вид она.\n",
    "df.loc[2376,\"label_quality\"] = 1 # по мнению модели, это 3 стадия и на вид она.\n",
    "df.loc[53,\"label_quality\"] = 1 # по мнению модели, это 3 стадия и на вид она.\n",
    "df.loc[1896,\"label_quality\"] = 1 # по мнению модели, это 3 стадия и на вид она.\n",
    "df.loc[3775,\"label_quality\"] = 1 # по мнению модели, это 3 стадия и на вид она.\n",
    "df.loc[6583,\"label_quality\"] = 1 # по мнению модели, это 5 стадия и на вид она.\n",
    "df.loc[5360,\"label_quality\"] = 1 # по мнению модели, это 5 стадия и на вид она.\n",
    "df.loc[4656,\"label_quality\"] = 1 # по мнению модели, это 5 стадия и на вид она.\n",
    "\n",
    "# Ремонт 5 стадии\n",
    "df.loc[6488,\"label_quality\"] = 1 # по мнению модели, это 2 стадия, на вид 1.\n",
    "df.loc[4569,\"label_quality\"] = 4 # по мнению модели, это 4 стадия и на вид она.\n",
    "df.loc[2689,\"label_quality\"] = 1 # по мнению модели, это 6 стадия\n",
    "df.loc[10406,\"label_quality\"] = 1 # по мнению модели, это 6 стадия\n",
    "df.loc[10477,\"label_quality\"] = 1 # по мнению модели, это 6 стадия\n",
    "df.loc[3608,\"label_quality\"] = 1 # по мнению модели, это 6 стадия\n",
    "df.loc[3327,\"label_quality\"] = 1 # по мнению модели, это 6 стадия\n",
    "df.loc[5586,\"label_quality\"] = 1 # по мнению модели, это 6 стадия\n",
    "df.loc[7290,\"label_quality\"] = 1 # по мнению модели, это 6 стадия\n",
    "df.loc[7750,\"label_quality\"] = 1 # по мнению модели, это 6 стадия\n",
    "df.loc[10406,\"label_quality\"] = 1 # по мнению модели, это 6 стадия\n",
    "df.loc[10477,\"label_quality\"] = 1 # по мнению модели, это 6 стадия\n",
    "\n",
    "df.loc[[2250, 2414, 2871, 3807, 4439, 4625, 7180, 10502, 3133, 4240],\"label_quality\"] = 1\n",
    "\n",
    "\n",
    "#Ремонт 6 категории\n",
    "df.loc[10507,\"label_quality\"] = 0 # грядки капусты\n",
    "df.loc[3686,\"label_quality\"] = 2 # похоже на цветение\n",
    "df.loc[2761,\"label_quality\"] = 2 # похоже на цветение\n",
    "df.loc[5177,\"label_quality\"] = 2 # похоже на цветение\n",
    "df.loc[7280,\"label_quality\"] = 2 # похоже на цветение\n",
    "df.loc[5484,\"label_quality\"] = 2 # похоже на цветение\n",
    "df.loc[921,\"label_quality\"] = 2 # похоже на цветение\n",
    "df.loc[1121,\"label_quality\"] = 2 # похоже на цветение\n",
    "df.loc[3528,\"label_quality\"] = 2 # похоже на цветение\n",
    "df.loc[7172,\"label_quality\"] = 2 # похоже на цветение\n",
    "df.loc[18,\"label_quality\"] = 2 # похоже на цветение\n",
    "df.loc[1636,\"label_quality\"] = 2 # похоже на цветение\n",
    "df.loc[1706,\"label_quality\"] = 2 # похоже на цветение\n",
    "df.loc[2399,\"label_quality\"] = 2 # похоже на цветение\n",
    "df.loc[2874,\"label_quality\"] = 2 # похоже на цветение\n",
    "df.loc[3528,\"label_quality\"] = 2 # похоже на цветение\n",
    "df.loc[4232,\"label_quality\"] = 2 # похоже на цветение\n",
    "df.loc[5169,\"label_quality\"] = 2 # похоже на цветение\n",
    "df.loc[5189,\"label_quality\"] = 2 # похоже на цветение\n",
    "df.loc[5981,\"label_quality\"] = 2 # похоже на цветение\n",
    "df.loc[6348,\"label_quality\"] = 2 # похоже на цветение\n",
    "df.loc[6698,\"label_quality\"] = 2 # похоже на цветение\n",
    "df.loc[7172,\"label_quality\"] = 2 # похоже на цветение\n",
    "df.loc[7935,\"label_quality\"] = 2 # похоже на цветение\n",
    "\n",
    "df.loc[8904,\"label_quality\"] = 2 # похоже на цветение\n",
    "df.loc[9975,\"label_quality\"] = 2 # похоже на цветение\n",
    "\n",
    "\n",
    "#Ремонт 7 категории\n",
    "df.loc[2882,\"label_quality\"] = 1 # по мнению модели, это 6 стадия\n",
    "df.loc[3927,\"label_quality\"] = 1 # по мнению модели, это 6 стадия\n",
    "df.loc[7750,\"label_quality\"] = 1 # по мнению модели, это 6 стадия\n",
    "df.loc[[7722, 8368],\"label_quality\"] = 1\n",
    "\n",
    "\n",
    "df[df[\"UID\"].isin([\"e3MzqN9F\",\n",
    "\n",
    "])]\n"
   ]
  },
  {
   "cell_type": "code",
   "execution_count": 179,
   "metadata": {},
   "outputs": [
    {
     "data": {
      "text/plain": [
       "UID                   aHCkYD7T\n",
       "growth_stage                 7\n",
       "label_quality                1\n",
       "img_name         aHCkYD7T.jpeg\n",
       "Name: 2882, dtype: object"
      ]
     },
     "execution_count": 179,
     "metadata": {},
     "output_type": "execute_result"
    }
   ],
   "source": [
    "df.loc[2882]"
   ]
  },
  {
   "cell_type": "code",
   "execution_count": 180,
   "metadata": {},
   "outputs": [
    {
     "data": {
      "text/plain": [
       "14251"
      ]
     },
     "execution_count": 180,
     "metadata": {},
     "output_type": "execute_result"
    }
   ],
   "source": [
    "len(os.listdir(\"images/Images/\"))"
   ]
  },
  {
   "cell_type": "code",
   "execution_count": 181,
   "metadata": {},
   "outputs": [],
   "source": [
    "#Файл с пофиксенными метками\n",
    "df.to_csv(\"Train_fixed.csv\", index=False)"
   ]
  },
  {
   "cell_type": "code",
   "execution_count": 182,
   "metadata": {},
   "outputs": [
    {
     "data": {
      "text/plain": [
       "<matplotlib.axes._subplots.AxesSubplot at 0x7f7a5b58fb20>"
      ]
     },
     "execution_count": 182,
     "metadata": {},
     "output_type": "execute_result"
    },
    {
     "data": {
      "image/png": "[encoded data removed]",
      "text/plain": [
       "<Figure size 432x288 with 1 Axes>"
      ]
     },
     "metadata": {
      "needs_background": "light"
     },
     "output_type": "display_data"
    }
   ],
   "source": [
    "df[df[\"label_quality\"] == 2][\"growth_stage\"].hist()"
   ]
  },
  {
   "cell_type": "code",
   "execution_count": 183,
   "metadata": {},
   "outputs": [],
   "source": [
    "folder = \"images/Images\"\n",
    "\n",
    "def get_width(img_name):\n",
    "    img_path = os.path.join(folder, img_name)\n",
    "        # Read an image with OpenCV\n",
    "    image = cv2.imread(img_path)\n",
    "    return image.shape[1]\n",
    "\n",
    "def get_height(img_name):\n",
    "    img_path = os.path.join(folder, img_name)\n",
    "        # Read an image with OpenCV\n",
    "    image = cv2.imread(img_path)\n",
    "    return image.shape[0]\n",
    "\n",
    "# df[\"width\"] = df[\"img_name\"].apply(lambda x: get_width(x))\n",
    "# df[\"height\"] = df[\"img_name\"].apply(lambda x: get_height(x))\n",
    "# df.head(10)     \n",
    "\n",
    "    "
   ]
  },
  {
   "cell_type": "markdown",
   "metadata": {},
   "source": [
    "## Датасет с label_quality == 2"
   ]
  },
  {
   "cell_type": "code",
   "execution_count": 184,
   "metadata": {},
   "outputs": [
    {
     "data": {
      "text/plain": [
       "(2844, 4)"
      ]
     },
     "execution_count": 184,
     "metadata": {},
     "output_type": "execute_result"
    }
   ],
   "source": [
    "sm_df = df[df[\"label_quality\"] == 2]\n",
    "sm_df.shape"
   ]
  },
  {
   "cell_type": "code",
   "execution_count": 185,
   "metadata": {},
   "outputs": [
    {
     "data": {
      "text/html": [
       "<div>\n",
       "<style scoped>\n",
       "    .dataframe tbody tr th:only-of-type {\n",
       "        vertical-align: middle;\n",
       "    }\n",
       "\n",
       "    .dataframe tbody tr th {\n",
       "        vertical-align: top;\n",
       "    }\n",
       "\n",
       "    .dataframe thead th {\n",
       "        text-align: right;\n",
       "    }\n",
       "</style>\n",
       "<table border=\"1\" class=\"dataframe\">\n",
       "  <thead>\n",
       "    <tr style=\"text-align: right;\">\n",
       "      <th></th>\n",
       "      <th>UID</th>\n",
       "      <th>growth_stage</th>\n",
       "      <th>label_quality</th>\n",
       "      <th>img_name</th>\n",
       "    </tr>\n",
       "  </thead>\n",
       "  <tbody>\n",
       "    <tr>\n",
       "      <th>0</th>\n",
       "      <td>nwuCTQKz</td>\n",
       "      <td>4</td>\n",
       "      <td>2</td>\n",
       "      <td>nwuCTQKz.jpeg</td>\n",
       "    </tr>\n",
       "    <tr>\n",
       "      <th>7</th>\n",
       "      <td>sYLqmiXV</td>\n",
       "      <td>3</td>\n",
       "      <td>2</td>\n",
       "      <td>sYLqmiXV.jpeg</td>\n",
       "    </tr>\n",
       "    <tr>\n",
       "      <th>10</th>\n",
       "      <td>rDP2EuQN</td>\n",
       "      <td>7</td>\n",
       "      <td>2</td>\n",
       "      <td>rDP2EuQN.jpeg</td>\n",
       "    </tr>\n",
       "    <tr>\n",
       "      <th>17</th>\n",
       "      <td>dMTbnE8V</td>\n",
       "      <td>2</td>\n",
       "      <td>2</td>\n",
       "      <td>dMTbnE8V.jpeg</td>\n",
       "    </tr>\n",
       "    <tr>\n",
       "      <th>18</th>\n",
       "      <td>va1s7xLd</td>\n",
       "      <td>6</td>\n",
       "      <td>2</td>\n",
       "      <td>va1s7xLd.jpeg</td>\n",
       "    </tr>\n",
       "    <tr>\n",
       "      <th>21</th>\n",
       "      <td>HQWkZRNB</td>\n",
       "      <td>2</td>\n",
       "      <td>2</td>\n",
       "      <td>HQWkZRNB.jpeg</td>\n",
       "    </tr>\n",
       "    <tr>\n",
       "      <th>24</th>\n",
       "      <td>SVmF1sLv</td>\n",
       "      <td>1</td>\n",
       "      <td>2</td>\n",
       "      <td>SVmF1sLv.jpeg</td>\n",
       "    </tr>\n",
       "    <tr>\n",
       "      <th>27</th>\n",
       "      <td>KRa560WZ</td>\n",
       "      <td>7</td>\n",
       "      <td>2</td>\n",
       "      <td>KRa560WZ.jpeg</td>\n",
       "    </tr>\n",
       "    <tr>\n",
       "      <th>30</th>\n",
       "      <td>EM8jAJdg</td>\n",
       "      <td>4</td>\n",
       "      <td>2</td>\n",
       "      <td>EM8jAJdg.jpeg</td>\n",
       "    </tr>\n",
       "    <tr>\n",
       "      <th>34</th>\n",
       "      <td>3hQnHxzU</td>\n",
       "      <td>4</td>\n",
       "      <td>2</td>\n",
       "      <td>3hQnHxzU.jpeg</td>\n",
       "    </tr>\n",
       "  </tbody>\n",
       "</table>\n",
       "</div>"
      ],
      "text/plain": [
       "         UID  growth_stage  label_quality       img_name\n",
       "0   nwuCTQKz             4              2  nwuCTQKz.jpeg\n",
       "7   sYLqmiXV             3              2  sYLqmiXV.jpeg\n",
       "10  rDP2EuQN             7              2  rDP2EuQN.jpeg\n",
       "17  dMTbnE8V             2              2  dMTbnE8V.jpeg\n",
       "18  va1s7xLd             6              2  va1s7xLd.jpeg\n",
       "21  HQWkZRNB             2              2  HQWkZRNB.jpeg\n",
       "24  SVmF1sLv             1              2  SVmF1sLv.jpeg\n",
       "27  KRa560WZ             7              2  KRa560WZ.jpeg\n",
       "30  EM8jAJdg             4              2  EM8jAJdg.jpeg\n",
       "34  3hQnHxzU             4              2  3hQnHxzU.jpeg"
      ]
     },
     "execution_count": 185,
     "metadata": {},
     "output_type": "execute_result"
    }
   ],
   "source": [
    "sm_df.to_csv(\"small_test.csv\", index=False)\n",
    "sm_df.head(10)"
   ]
  },
  {
   "cell_type": "code",
   "execution_count": 186,
   "metadata": {},
   "outputs": [
    {
     "data": {
      "text/html": [
       "<div>\n",
       "<style scoped>\n",
       "    .dataframe tbody tr th:only-of-type {\n",
       "        vertical-align: middle;\n",
       "    }\n",
       "\n",
       "    .dataframe tbody tr th {\n",
       "        vertical-align: top;\n",
       "    }\n",
       "\n",
       "    .dataframe thead th {\n",
       "        text-align: right;\n",
       "    }\n",
       "</style>\n",
       "<table border=\"1\" class=\"dataframe\">\n",
       "  <thead>\n",
       "    <tr style=\"text-align: right;\">\n",
       "      <th></th>\n",
       "      <th>UID</th>\n",
       "      <th>label_quality</th>\n",
       "      <th>img_name</th>\n",
       "    </tr>\n",
       "    <tr>\n",
       "      <th>growth_stage</th>\n",
       "      <th></th>\n",
       "      <th></th>\n",
       "      <th></th>\n",
       "    </tr>\n",
       "  </thead>\n",
       "  <tbody>\n",
       "    <tr>\n",
       "      <th>1</th>\n",
       "      <td>0.008790</td>\n",
       "      <td>0.008790</td>\n",
       "      <td>0.008790</td>\n",
       "    </tr>\n",
       "    <tr>\n",
       "      <th>2</th>\n",
       "      <td>0.159986</td>\n",
       "      <td>0.159986</td>\n",
       "      <td>0.159986</td>\n",
       "    </tr>\n",
       "    <tr>\n",
       "      <th>3</th>\n",
       "      <td>0.237342</td>\n",
       "      <td>0.237342</td>\n",
       "      <td>0.237342</td>\n",
       "    </tr>\n",
       "    <tr>\n",
       "      <th>4</th>\n",
       "      <td>0.389241</td>\n",
       "      <td>0.389241</td>\n",
       "      <td>0.389241</td>\n",
       "    </tr>\n",
       "    <tr>\n",
       "      <th>5</th>\n",
       "      <td>0.081224</td>\n",
       "      <td>0.081224</td>\n",
       "      <td>0.081224</td>\n",
       "    </tr>\n",
       "    <tr>\n",
       "      <th>6</th>\n",
       "      <td>0.008087</td>\n",
       "      <td>0.008087</td>\n",
       "      <td>0.008087</td>\n",
       "    </tr>\n",
       "    <tr>\n",
       "      <th>7</th>\n",
       "      <td>0.115331</td>\n",
       "      <td>0.115331</td>\n",
       "      <td>0.115331</td>\n",
       "    </tr>\n",
       "  </tbody>\n",
       "</table>\n",
       "</div>"
      ],
      "text/plain": [
       "                   UID  label_quality  img_name\n",
       "growth_stage                                   \n",
       "1             0.008790       0.008790  0.008790\n",
       "2             0.159986       0.159986  0.159986\n",
       "3             0.237342       0.237342  0.237342\n",
       "4             0.389241       0.389241  0.389241\n",
       "5             0.081224       0.081224  0.081224\n",
       "6             0.008087       0.008087  0.008087\n",
       "7             0.115331       0.115331  0.115331"
      ]
     },
     "execution_count": 186,
     "metadata": {},
     "output_type": "execute_result"
    }
   ],
   "source": [
    "sm_df.groupby(\"growth_stage\").count() / sm_df.shape[0]\n"
   ]
  },
  {
   "cell_type": "markdown",
   "metadata": {},
   "source": [
    "## Делаю большие картинки"
   ]
  },
  {
   "cell_type": "code",
   "execution_count": 187,
   "metadata": {},
   "outputs": [
    {
     "data": {
      "text/plain": [
       "(237, 512, 3)"
      ]
     },
     "execution_count": 187,
     "metadata": {},
     "output_type": "execute_result"
    }
   ],
   "source": [
    "#z6Uv3VsC.jpeg  0dYHGkXf.jpeg\n",
    "img_path = os.path.join(\"images/Images/\", \"0jQFViDH.jpeg\")\n",
    "img = Image.open(img_path)\n",
    "pix = np.array(img)\n",
    "pix.shape"
   ]
  },
  {
   "cell_type": "code",
   "execution_count": 188,
   "metadata": {},
   "outputs": [
    {
     "data": {
      "text/plain": [
       "array([[132, 147,  30],\n",
       "       [136, 150,  39],\n",
       "       [144, 156,  54],\n",
       "       [131, 142,  50],\n",
       "       [143, 152,  73],\n",
       "       [140, 147,  80],\n",
       "       [  4,   9,   0],\n",
       "       [  3,   5,   0],\n",
       "       [  3,   3,   0]], dtype=uint8)"
      ]
     },
     "execution_count": 188,
     "metadata": {},
     "output_type": "execute_result"
    }
   ],
   "source": [
    "pix[1,1:10,:]"
   ]
  },
  {
   "cell_type": "code",
   "execution_count": 189,
   "metadata": {},
   "outputs": [
    {
     "ename": "TypeError",
     "evalue": "fromarray() missing 1 required positional argument: 'obj'",
     "output_type": "error",
     "traceback": [
      "\u001b[0;31m---------------------------------------------------------------------------\u001b[0m",
      "\u001b[0;31mTypeError\u001b[0m                                 Traceback (most recent call last)",
      "\u001b[0;32m<ipython-input-189-027ffdca6a56>\u001b[0m in \u001b[0;36m<module>\u001b[0;34m\u001b[0m\n\u001b[0;32m----> 1\u001b[0;31m \u001b[0mImage\u001b[0m\u001b[0;34m.\u001b[0m\u001b[0mfromarray\u001b[0m\u001b[0;34m(\u001b[0m\u001b[0;34m)\u001b[0m\u001b[0;34m.\u001b[0m\u001b[0msave\u001b[0m\u001b[0;34m(\u001b[0m\u001b[0;34m\"temp.jpg\"\u001b[0m\u001b[0;34m)\u001b[0m\u001b[0;34m\u001b[0m\u001b[0;34m\u001b[0m\u001b[0m\n\u001b[0m",
      "\u001b[0;31mTypeError\u001b[0m: fromarray() missing 1 required positional argument: 'obj'"
     ]
    }
   ],
   "source": [
    "Image.fromarray().save(\"temp.jpg\")"
   ]
  },
  {
   "cell_type": "code",
   "execution_count": null,
   "metadata": {},
   "outputs": [],
   "source": [
    "base = 224\n",
    "target_folder = \"images/bigImages\"\n",
    "for i in os.listdir(\"images/Images/\"):\n",
    "    #print(i)\n",
    "    img_path = os.path.join(\"images/Images/\", i)\n",
    "    img_source = Image.open(img_path)\n",
    "    pix = np.array(img_source)\n",
    "    try:\n",
    "        med_level = pix[-10:,:,:].mean() * 0.3\n",
    "        if med_level < 10:\n",
    "            print(img_path, med_level)\n",
    "        #print(med_level)\n",
    "        img = pix[pix.mean(axis = 2).mean(axis = 1) > med_level] # отрезаю черные горизонтальные полосы\n",
    "        if img.shape[0] == 0:\n",
    "            print(\"упс\", img_path)\n",
    "            img = pix\n",
    "        height = img.shape[0]\n",
    "        width = img.shape[1]\n",
    "        #print(img)\n",
    "        images = [img, img, img]\n",
    "        #print(\"height\", images[2].size[1])\n",
    "        new_height = images[2].shape[0]\n",
    "        new_width = images[2].shape[1]\n",
    "        while new_height < 2 * base:\n",
    "            images[2] = np.vstack([images[1], images[0]])\n",
    "            #print(images[2].shape)\n",
    "            images[1] = images[2]\n",
    "            #print(\"height\", images[2].shape[0])\n",
    "            new_height = images[2].shape[0]\n",
    "\n",
    "\n",
    "        while new_width < 1.7 * base: # target = 380 px\n",
    "            images[2] = np.hstack([images[2], images[2]])\n",
    "            print(new_width)\n",
    "            new_width = images[2].shape[1]\n",
    "\n",
    "\n",
    "        # если картинка склеена, то она - массив, а если нет, то PIL объект\n",
    "        try:\n",
    "            images[2].save(os.path.join(target_folder, i))\n",
    "        except:\n",
    "            Image.fromarray(images[2]).save(os.path.join(target_folder, i))\n",
    "    except:\n",
    "        print(img_path)"
   ]
  },
  {
   "cell_type": "code",
   "execution_count": null,
   "metadata": {},
   "outputs": [],
   "source": [
    "bad image  images/Images/DSZPoVxv.jpeg\n",
    "images/Images/VMNgikot.jpeg"
   ]
  },
  {
   "cell_type": "code",
   "execution_count": null,
   "metadata": {},
   "outputs": [],
   "source": []
  }
 ],
 "metadata": {
  "kernelspec": {
   "display_name": "Python 3",
   "language": "python",
   "name": "python3"
  },
  "language_info": {
   "codemirror_mode": {
    "name": "ipython",
    "version": 3
   },
   "file_extension": ".py",
   "mimetype": "text/x-python",
   "name": "python",
   "nbconvert_exporter": "python",
   "pygments_lexer": "ipython3",
   "version": "3.8.3"
  }
 },
 "nbformat": 4,
 "nbformat_minor": 4
}
